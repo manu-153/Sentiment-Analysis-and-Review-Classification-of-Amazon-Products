{
 "cells": [
  {
   "cell_type": "code",
   "execution_count": 8,
   "id": "35dbee78-97c7-4f6a-a2a3-512a729e8b80",
   "metadata": {},
   "outputs": [
    {
     "name": "stderr",
     "output_type": "stream",
     "text": [
      "ERROR: Could not find a version that satisfies the requirement SentimentIntensityAnalyzer (from versions: none)\n",
      "ERROR: No matching distribution found for SentimentIntensityAnalyzer\n"
     ]
    },
    {
     "name": "stdout",
     "output_type": "stream",
     "text": [
      "Requirement already satisfied: chart_studio in c:\\program files\\python312\\lib\\site-packages (1.1.0)\n",
      "Requirement already satisfied: plotly in c:\\program files\\python312\\lib\\site-packages (from chart_studio) (5.23.0)\n",
      "Requirement already satisfied: requests in c:\\program files\\python312\\lib\\site-packages (from chart_studio) (2.32.3)\n",
      "Requirement already satisfied: retrying>=1.3.3 in c:\\program files\\python312\\lib\\site-packages (from chart_studio) (1.3.4)\n",
      "Requirement already satisfied: six in c:\\program files\\python312\\lib\\site-packages (from chart_studio) (1.16.0)\n",
      "Requirement already satisfied: tenacity>=6.2.0 in c:\\program files\\python312\\lib\\site-packages (from plotly->chart_studio) (9.0.0)\n",
      "Requirement already satisfied: packaging in c:\\program files\\python312\\lib\\site-packages (from plotly->chart_studio) (24.1)\n",
      "Requirement already satisfied: charset-normalizer<4,>=2 in c:\\program files\\python312\\lib\\site-packages (from requests->chart_studio) (3.3.2)\n",
      "Requirement already satisfied: idna<4,>=2.5 in c:\\program files\\python312\\lib\\site-packages (from requests->chart_studio) (3.7)\n",
      "Requirement already satisfied: urllib3<3,>=1.21.1 in c:\\program files\\python312\\lib\\site-packages (from requests->chart_studio) (2.2.2)\n",
      "Requirement already satisfied: certifi>=2017.4.17 in c:\\program files\\python312\\lib\\site-packages (from requests->chart_studio) (2024.7.4)\n",
      "Requirement already satisfied: TextBlob in c:\\program files\\python312\\lib\\site-packages (0.18.0.post0)\n",
      "Requirement already satisfied: nltk>=3.8 in c:\\program files\\python312\\lib\\site-packages (from TextBlob) (3.9.1)\n",
      "Requirement already satisfied: click in c:\\program files\\python312\\lib\\site-packages (from nltk>=3.8->TextBlob) (8.1.7)\n",
      "Requirement already satisfied: joblib in c:\\program files\\python312\\lib\\site-packages (from nltk>=3.8->TextBlob) (1.3.2)\n",
      "Requirement already satisfied: regex>=2021.8.3 in c:\\program files\\python312\\lib\\site-packages (from nltk>=3.8->TextBlob) (2024.7.24)\n",
      "Requirement already satisfied: tqdm in c:\\program files\\python312\\lib\\site-packages (from nltk>=3.8->TextBlob) (4.66.5)\n",
      "Requirement already satisfied: colorama in c:\\program files\\python312\\lib\\site-packages (from click->nltk>=3.8->TextBlob) (0.4.6)\n",
      "Requirement already satisfied: plotly in c:\\program files\\python312\\lib\\site-packages (5.23.0)\n",
      "Requirement already satisfied: tenacity>=6.2.0 in c:\\program files\\python312\\lib\\site-packages (from plotly) (9.0.0)\n",
      "Requirement already satisfied: packaging in c:\\program files\\python312\\lib\\site-packages (from plotly) (24.1)\n",
      "Requirement already satisfied: WordCloud in c:\\program files\\python312\\lib\\site-packages (1.9.3)\n",
      "Requirement already satisfied: numpy>=1.6.1 in c:\\program files\\python312\\lib\\site-packages (from WordCloud) (1.26.4)\n",
      "Requirement already satisfied: pillow in c:\\program files\\python312\\lib\\site-packages (from WordCloud) (10.4.0)\n",
      "Requirement already satisfied: matplotlib in c:\\program files\\python312\\lib\\site-packages (from WordCloud) (3.7.5)\n",
      "Requirement already satisfied: contourpy>=1.0.1 in c:\\program files\\python312\\lib\\site-packages (from matplotlib->WordCloud) (1.2.1)\n",
      "Requirement already satisfied: cycler>=0.10 in c:\\program files\\python312\\lib\\site-packages (from matplotlib->WordCloud) (0.12.1)\n",
      "Requirement already satisfied: fonttools>=4.22.0 in c:\\program files\\python312\\lib\\site-packages (from matplotlib->WordCloud) (4.53.1)\n",
      "Requirement already satisfied: kiwisolver>=1.0.1 in c:\\program files\\python312\\lib\\site-packages (from matplotlib->WordCloud) (1.4.5)\n",
      "Requirement already satisfied: packaging>=20.0 in c:\\program files\\python312\\lib\\site-packages (from matplotlib->WordCloud) (24.1)\n",
      "Requirement already satisfied: pyparsing>=2.3.1 in c:\\program files\\python312\\lib\\site-packages (from matplotlib->WordCloud) (3.1.2)\n",
      "Requirement already satisfied: python-dateutil>=2.7 in c:\\program files\\python312\\lib\\site-packages (from matplotlib->WordCloud) (2.9.0.post0)\n",
      "Requirement already satisfied: six>=1.5 in c:\\program files\\python312\\lib\\site-packages (from python-dateutil>=2.7->matplotlib->WordCloud) (1.16.0)\n",
      "Requirement already satisfied: cufflinks in c:\\program files\\python312\\lib\\site-packages (0.17.3)\n",
      "Requirement already satisfied: numpy>=1.9.2 in c:\\program files\\python312\\lib\\site-packages (from cufflinks) (1.26.4)\n",
      "Requirement already satisfied: pandas>=0.19.2 in c:\\program files\\python312\\lib\\site-packages (from cufflinks) (2.1.4)\n",
      "Requirement already satisfied: plotly>=4.1.1 in c:\\program files\\python312\\lib\\site-packages (from cufflinks) (5.23.0)\n",
      "Requirement already satisfied: six>=1.9.0 in c:\\program files\\python312\\lib\\site-packages (from cufflinks) (1.16.0)\n",
      "Requirement already satisfied: colorlover>=0.2.1 in c:\\program files\\python312\\lib\\site-packages (from cufflinks) (0.3.0)\n",
      "Requirement already satisfied: setuptools>=34.4.1 in c:\\program files\\python312\\lib\\site-packages (from cufflinks) (72.2.0)\n",
      "Requirement already satisfied: ipython>=5.3.0 in c:\\program files\\python312\\lib\\site-packages (from cufflinks) (8.26.0)\n",
      "Requirement already satisfied: ipywidgets>=7.0.0 in c:\\program files\\python312\\lib\\site-packages (from cufflinks) (8.1.3)\n",
      "Requirement already satisfied: decorator in c:\\program files\\python312\\lib\\site-packages (from ipython>=5.3.0->cufflinks) (5.1.1)\n",
      "Requirement already satisfied: jedi>=0.16 in c:\\program files\\python312\\lib\\site-packages (from ipython>=5.3.0->cufflinks) (0.19.1)\n",
      "Requirement already satisfied: matplotlib-inline in c:\\program files\\python312\\lib\\site-packages (from ipython>=5.3.0->cufflinks) (0.1.7)\n",
      "Requirement already satisfied: prompt-toolkit<3.1.0,>=3.0.41 in c:\\program files\\python312\\lib\\site-packages (from ipython>=5.3.0->cufflinks) (3.0.47)\n",
      "Requirement already satisfied: pygments>=2.4.0 in c:\\program files\\python312\\lib\\site-packages (from ipython>=5.3.0->cufflinks) (2.18.0)\n",
      "Requirement already satisfied: stack-data in c:\\program files\\python312\\lib\\site-packages (from ipython>=5.3.0->cufflinks) (0.6.3)\n",
      "Requirement already satisfied: traitlets>=5.13.0 in c:\\program files\\python312\\lib\\site-packages (from ipython>=5.3.0->cufflinks) (5.14.3)\n",
      "Requirement already satisfied: colorama in c:\\program files\\python312\\lib\\site-packages (from ipython>=5.3.0->cufflinks) (0.4.6)\n",
      "Requirement already satisfied: comm>=0.1.3 in c:\\program files\\python312\\lib\\site-packages (from ipywidgets>=7.0.0->cufflinks) (0.2.2)\n",
      "Requirement already satisfied: widgetsnbextension~=4.0.11 in c:\\program files\\python312\\lib\\site-packages (from ipywidgets>=7.0.0->cufflinks) (4.0.11)\n",
      "Requirement already satisfied: jupyterlab-widgets~=3.0.11 in c:\\program files\\python312\\lib\\site-packages (from ipywidgets>=7.0.0->cufflinks) (3.0.11)\n",
      "Requirement already satisfied: python-dateutil>=2.8.2 in c:\\program files\\python312\\lib\\site-packages (from pandas>=0.19.2->cufflinks) (2.9.0.post0)\n",
      "Requirement already satisfied: pytz>=2020.1 in c:\\program files\\python312\\lib\\site-packages (from pandas>=0.19.2->cufflinks) (2024.1)\n",
      "Requirement already satisfied: tzdata>=2022.1 in c:\\program files\\python312\\lib\\site-packages (from pandas>=0.19.2->cufflinks) (2024.1)\n",
      "Requirement already satisfied: tenacity>=6.2.0 in c:\\program files\\python312\\lib\\site-packages (from plotly>=4.1.1->cufflinks) (9.0.0)\n",
      "Requirement already satisfied: packaging in c:\\program files\\python312\\lib\\site-packages (from plotly>=4.1.1->cufflinks) (24.1)\n",
      "Requirement already satisfied: parso<0.9.0,>=0.8.3 in c:\\program files\\python312\\lib\\site-packages (from jedi>=0.16->ipython>=5.3.0->cufflinks) (0.8.4)\n",
      "Requirement already satisfied: wcwidth in c:\\program files\\python312\\lib\\site-packages (from prompt-toolkit<3.1.0,>=3.0.41->ipython>=5.3.0->cufflinks) (0.2.13)\n",
      "Requirement already satisfied: executing>=1.2.0 in c:\\program files\\python312\\lib\\site-packages (from stack-data->ipython>=5.3.0->cufflinks) (2.0.1)\n",
      "Requirement already satisfied: asttokens>=2.1.0 in c:\\program files\\python312\\lib\\site-packages (from stack-data->ipython>=5.3.0->cufflinks) (2.4.1)\n",
      "Requirement already satisfied: pure-eval in c:\\program files\\python312\\lib\\site-packages (from stack-data->ipython>=5.3.0->cufflinks) (0.2.3)\n"
     ]
    }
   ],
   "source": [
    "!pip install SentimentIntensityAnalyzer\n",
    "!pip install chart_studio\n",
    "!pip install TextBlob\n",
    "!pip install plotly\n",
    "!pip install WordCloud\n",
    "!pip install cufflinks"
   ]
  },
  {
   "cell_type": "code",
   "execution_count": 9,
   "id": "34d42761-7b09-4576-b1b6-14176bc6ec4b",
   "metadata": {},
   "outputs": [
    {
     "data": {
      "text/html": [
       "        <script type=\"text/javascript\">\n",
       "        window.PlotlyConfig = {MathJaxConfig: 'local'};\n",
       "        if (window.MathJax && window.MathJax.Hub && window.MathJax.Hub.Config) {window.MathJax.Hub.Config({SVG: {font: \"STIX-Web\"}});}\n",
       "        if (typeof require !== 'undefined') {\n",
       "        require.undef(\"plotly\");\n",
       "        requirejs.config({\n",
       "            paths: {\n",
       "                'plotly': ['https://cdn.plot.ly/plotly-2.34.0.min']\n",
       "            }\n",
       "        });\n",
       "        require(['plotly'], function(Plotly) {\n",
       "            window._Plotly = Plotly;\n",
       "        });\n",
       "        }\n",
       "        </script>\n",
       "        "
      ]
     },
     "metadata": {},
     "output_type": "display_data"
    },
    {
     "data": {
      "text/html": [
       "        <script type=\"text/javascript\">\n",
       "        window.PlotlyConfig = {MathJaxConfig: 'local'};\n",
       "        if (window.MathJax && window.MathJax.Hub && window.MathJax.Hub.Config) {window.MathJax.Hub.Config({SVG: {font: \"STIX-Web\"}});}\n",
       "        if (typeof require !== 'undefined') {\n",
       "        require.undef(\"plotly\");\n",
       "        requirejs.config({\n",
       "            paths: {\n",
       "                'plotly': ['https://cdn.plot.ly/plotly-2.34.0.min']\n",
       "            }\n",
       "        });\n",
       "        require(['plotly'], function(Plotly) {\n",
       "            window._Plotly = Plotly;\n",
       "        });\n",
       "        }\n",
       "        </script>\n",
       "        "
      ]
     },
     "metadata": {},
     "output_type": "display_data"
    }
   ],
   "source": [
    "import pandas as pd\n",
    "from nltk.sentiment.vader import SentimentIntensityAnalyzer \n",
    "import nltk\n",
    "import re\n",
    "from textblob import TextBlob\n",
    "from wordcloud import WordCloud\n",
    "import numpy as np\n",
    "import seaborn as sns\n",
    "import matplotlib.pyplot as plt\n",
    "import cufflinks as cf\n",
    "%matplotlib inline\n",
    "from plotly.offline import init_notebook_mode, iplot\n",
    "init_notebook_mode(connected = True)\n",
    "cf.go_offline();\n",
    "import plotly.graph_objs as go\n",
    "from plotly.subplots import make_subplots\n",
    "\n",
    "import warnings\n",
    "warnings.filterwarnings(\"ignore\")\n",
    "warnings.warn(\"this will not show\")\n",
    "pd.set_option('display.max_columns', None)"
   ]
  },
  {
   "cell_type": "code",
   "execution_count": 10,
   "id": "e0875d54-d3ae-4d7a-a602-a1b735f60257",
   "metadata": {},
   "outputs": [
    {
     "name": "stdout",
     "output_type": "stream",
     "text": [
      "Datasets loaded successfully.\n",
      "Datasets concatenated successfully.\n",
      "First few rows of the concatenated dataset:\n",
      "   Unnamed: 0  reviewerName  overall  \\\n",
      "0           0           NaN      4.0   \n",
      "1           1          0mie      5.0   \n",
      "2           2           1K3      4.0   \n",
      "3           3           1m2      5.0   \n",
      "4           4  2&amp;1/2Men      5.0   \n",
      "\n",
      "                                          reviewText  reviewTime  day_diff  \\\n",
      "0                                         No issues.  2014-07-23       138   \n",
      "1  Purchased this for my device, it worked as adv...  2013-10-25       409   \n",
      "2  it works as expected. I should have sprung for...  2012-12-23       715   \n",
      "3  This think has worked out great.Had a diff. br...  2013-11-21       382   \n",
      "4  Bought it with Retail Packaging, arrived legit...  2013-07-13       513   \n",
      "\n",
      "   helpful_yes  helpful_no  total_vote  score_pos_neg_diff  \\\n",
      "0            0           0           0                   0   \n",
      "1            0           0           0                   0   \n",
      "2            0           0           0                   0   \n",
      "3            0           0           0                   0   \n",
      "4            0           0           0                   0   \n",
      "\n",
      "   score_average_rating  wilson_lower_bound  \n",
      "0                   0.0                 0.0  \n",
      "1                   0.0                 0.0  \n",
      "2                   0.0                 0.0  \n",
      "3                   0.0                 0.0  \n",
      "4                   0.0                 0.0  \n"
     ]
    }
   ],
   "source": [
    "import pandas as pd\n",
    "\n",
    "# Load the datasets\n",
    "try:\n",
    "    df1 = pd.read_csv(\"amazon_reviews.csv\")\n",
    "    df2 = pd.read_csv(\"amazon.csv\")\n",
    "    print(\"Datasets loaded successfully.\")\n",
    "except Exception as e:\n",
    "    print(f\"Error loading datasets: {e}\")\n",
    "\n",
    "# Concatenate the datasets\n",
    "try:\n",
    "    df_ = pd.concat([df1, df2], ignore_index=True)\n",
    "    print(\"Datasets concatenated successfully.\")\n",
    "except Exception as e:\n",
    "    print(f\"Error concatenating datasets: {e}\")\n",
    "\n",
    "# Display first few rows of the concatenated dataset\n",
    "if 'df_' in locals():\n",
    "    print(\"First few rows of the concatenated dataset:\")\n",
    "    print(df_.head())\n",
    "else:\n",
    "    print(\"Concatenated dataset is not available due to an error.\")\n"
   ]
  },
  {
   "cell_type": "code",
   "execution_count": 11,
   "id": "606b03be-6b31-470f-b3d3-41d08207c6bc",
   "metadata": {},
   "outputs": [
    {
     "name": "stdout",
     "output_type": "stream",
     "text": [
      "Datasets loaded successfully.\n",
      "Columns in amazon_reviews.csv:\n",
      "Index(['Unnamed: 0', 'reviewerName', 'overall', 'reviewText', 'reviewTime',\n",
      "       'day_diff', 'helpful_yes', 'helpful_no', 'total_vote',\n",
      "       'score_pos_neg_diff', 'score_average_rating', 'wilson_lower_bound'],\n",
      "      dtype='object')\n",
      "Columns in amazon.csv:\n",
      "Index(['Unnamed: 0', 'reviewerName', 'overall', 'reviewText', 'reviewTime',\n",
      "       'day_diff', 'helpful_yes', 'helpful_no', 'total_vote',\n",
      "       'score_pos_neg_diff', 'score_average_rating', 'wilson_lower_bound'],\n",
      "      dtype='object')\n",
      "Error merging datasets: 'reviewID'\n",
      "First few rows of the merged dataset:\n",
      "   Unnamed: 0  reviewerName  overall  \\\n",
      "0           0           NaN      4.0   \n",
      "1           1          0mie      5.0   \n",
      "2           2           1K3      4.0   \n",
      "3           3           1m2      5.0   \n",
      "4           4  2&amp;1/2Men      5.0   \n",
      "\n",
      "                                          reviewText  reviewTime  day_diff  \\\n",
      "0                                         No issues.  2014-07-23       138   \n",
      "1  Purchased this for my device, it worked as adv...  2013-10-25       409   \n",
      "2  it works as expected. I should have sprung for...  2012-12-23       715   \n",
      "3  This think has worked out great.Had a diff. br...  2013-11-21       382   \n",
      "4  Bought it with Retail Packaging, arrived legit...  2013-07-13       513   \n",
      "\n",
      "   helpful_yes  helpful_no  total_vote  score_pos_neg_diff  \\\n",
      "0            0           0           0                   0   \n",
      "1            0           0           0                   0   \n",
      "2            0           0           0                   0   \n",
      "3            0           0           0                   0   \n",
      "4            0           0           0                   0   \n",
      "\n",
      "   score_average_rating  wilson_lower_bound  \n",
      "0                   0.0                 0.0  \n",
      "1                   0.0                 0.0  \n",
      "2                   0.0                 0.0  \n",
      "3                   0.0                 0.0  \n",
      "4                   0.0                 0.0  \n"
     ]
    }
   ],
   "source": [
    "import pandas as pd\n",
    "\n",
    "# Load the datasets\n",
    "try:\n",
    "    df1 = pd.read_csv(\"amazon_reviews.csv\")\n",
    "    df2 = pd.read_csv(\"amazon.csv\")\n",
    "    print(\"Datasets loaded successfully.\")\n",
    "except Exception as e:\n",
    "    print(f\"Error loading datasets: {e}\")\n",
    "\n",
    "# Print the column names to find a suitable merge key\n",
    "print(\"Columns in amazon_reviews.csv:\")\n",
    "print(df1.columns)\n",
    "\n",
    "print(\"Columns in amazon.csv:\")\n",
    "print(df2.columns)\n",
    "\n",
    "# Merge the datasets based on the actual common column name\n",
    "try:\n",
    "    df_ = pd.merge(df1, df2, on='reviewID', how='inner')  # Replace 'reviewID' with the actual key column name\n",
    "    print(\"Datasets merged successfully.\")\n",
    "except Exception as e:\n",
    "    print(f\"Error merging datasets: {e}\")\n",
    "\n",
    "# Display first few rows of the merged dataset if merge was successful\n",
    "if 'df_' in locals():\n",
    "    print(\"First few rows of the merged dataset:\")\n",
    "    print(df_.head())\n",
    "else:\n",
    "    print(\"Merged dataset is not available due to an error.\")\n"
   ]
  },
  {
   "cell_type": "code",
   "execution_count": 12,
   "id": "765bd70d-444b-43ca-8617-0d4184646c57",
   "metadata": {},
   "outputs": [],
   "source": [
    "df = df_.copy()"
   ]
  },
  {
   "cell_type": "code",
   "execution_count": 13,
   "id": "24ad045b-e9c4-48fb-8757-d987882392c4",
   "metadata": {},
   "outputs": [
    {
     "data": {
      "text/html": [
       "<div>\n",
       "<style scoped>\n",
       "    .dataframe tbody tr th:only-of-type {\n",
       "        vertical-align: middle;\n",
       "    }\n",
       "\n",
       "    .dataframe tbody tr th {\n",
       "        vertical-align: top;\n",
       "    }\n",
       "\n",
       "    .dataframe thead th {\n",
       "        text-align: right;\n",
       "    }\n",
       "</style>\n",
       "<table border=\"1\" class=\"dataframe\">\n",
       "  <thead>\n",
       "    <tr style=\"text-align: right;\">\n",
       "      <th></th>\n",
       "      <th>reviewerName</th>\n",
       "      <th>overall</th>\n",
       "      <th>reviewText</th>\n",
       "      <th>reviewTime</th>\n",
       "      <th>day_diff</th>\n",
       "      <th>helpful_yes</th>\n",
       "      <th>helpful_no</th>\n",
       "      <th>total_vote</th>\n",
       "      <th>score_pos_neg_diff</th>\n",
       "      <th>score_average_rating</th>\n",
       "      <th>wilson_lower_bound</th>\n",
       "    </tr>\n",
       "  </thead>\n",
       "  <tbody>\n",
       "    <tr>\n",
       "      <th>6946</th>\n",
       "      <td>Hyoun Kim \"Faluzure\"</td>\n",
       "      <td>5.0</td>\n",
       "      <td>[[ UPDATE - 6/19/2014 ]]So my lovely wife boug...</td>\n",
       "      <td>05-01-2013</td>\n",
       "      <td>702</td>\n",
       "      <td>1952</td>\n",
       "      <td>68</td>\n",
       "      <td>2020</td>\n",
       "      <td>1884</td>\n",
       "      <td>0.966337</td>\n",
       "      <td>0.957544</td>\n",
       "    </tr>\n",
       "    <tr>\n",
       "      <th>2031</th>\n",
       "      <td>Hyoun Kim \"Faluzure\"</td>\n",
       "      <td>5.0</td>\n",
       "      <td>[[ UPDATE - 6/19/2014 ]]So my lovely wife boug...</td>\n",
       "      <td>2013-01-05</td>\n",
       "      <td>702</td>\n",
       "      <td>1952</td>\n",
       "      <td>68</td>\n",
       "      <td>2020</td>\n",
       "      <td>1884</td>\n",
       "      <td>0.966337</td>\n",
       "      <td>0.957544</td>\n",
       "    </tr>\n",
       "    <tr>\n",
       "      <th>3449</th>\n",
       "      <td>NLee the Engineer</td>\n",
       "      <td>5.0</td>\n",
       "      <td>I have tested dozens of SDHC and micro-SDHC ca...</td>\n",
       "      <td>2012-09-26</td>\n",
       "      <td>803</td>\n",
       "      <td>1428</td>\n",
       "      <td>77</td>\n",
       "      <td>1505</td>\n",
       "      <td>1351</td>\n",
       "      <td>0.948837</td>\n",
       "      <td>0.936519</td>\n",
       "    </tr>\n",
       "    <tr>\n",
       "      <th>8364</th>\n",
       "      <td>NLee the Engineer</td>\n",
       "      <td>5.0</td>\n",
       "      <td>I have tested dozens of SDHC and micro-SDHC ca...</td>\n",
       "      <td>26-09-2012</td>\n",
       "      <td>803</td>\n",
       "      <td>1428</td>\n",
       "      <td>77</td>\n",
       "      <td>1505</td>\n",
       "      <td>1351</td>\n",
       "      <td>0.948837</td>\n",
       "      <td>0.936519</td>\n",
       "    </tr>\n",
       "    <tr>\n",
       "      <th>9127</th>\n",
       "      <td>SkincareCEO</td>\n",
       "      <td>1.0</td>\n",
       "      <td>NOTE:  please read the last update (scroll to ...</td>\n",
       "      <td>08-05-2013</td>\n",
       "      <td>579</td>\n",
       "      <td>1568</td>\n",
       "      <td>126</td>\n",
       "      <td>1694</td>\n",
       "      <td>1442</td>\n",
       "      <td>0.925620</td>\n",
       "      <td>0.912139</td>\n",
       "    </tr>\n",
       "  </tbody>\n",
       "</table>\n",
       "</div>"
      ],
      "text/plain": [
       "              reviewerName  overall  \\\n",
       "6946  Hyoun Kim \"Faluzure\"      5.0   \n",
       "2031  Hyoun Kim \"Faluzure\"      5.0   \n",
       "3449     NLee the Engineer      5.0   \n",
       "8364     NLee the Engineer      5.0   \n",
       "9127           SkincareCEO      1.0   \n",
       "\n",
       "                                             reviewText  reviewTime  day_diff  \\\n",
       "6946  [[ UPDATE - 6/19/2014 ]]So my lovely wife boug...  05-01-2013       702   \n",
       "2031  [[ UPDATE - 6/19/2014 ]]So my lovely wife boug...  2013-01-05       702   \n",
       "3449  I have tested dozens of SDHC and micro-SDHC ca...  2012-09-26       803   \n",
       "8364  I have tested dozens of SDHC and micro-SDHC ca...  26-09-2012       803   \n",
       "9127  NOTE:  please read the last update (scroll to ...  08-05-2013       579   \n",
       "\n",
       "      helpful_yes  helpful_no  total_vote  score_pos_neg_diff  \\\n",
       "6946         1952          68        2020                1884   \n",
       "2031         1952          68        2020                1884   \n",
       "3449         1428          77        1505                1351   \n",
       "8364         1428          77        1505                1351   \n",
       "9127         1568         126        1694                1442   \n",
       "\n",
       "      score_average_rating  wilson_lower_bound  \n",
       "6946              0.966337            0.957544  \n",
       "2031              0.966337            0.957544  \n",
       "3449              0.948837            0.936519  \n",
       "8364              0.948837            0.936519  \n",
       "9127              0.925620            0.912139  "
      ]
     },
     "execution_count": 13,
     "metadata": {},
     "output_type": "execute_result"
    }
   ],
   "source": [
    "df = df.sort_values(\"wilson_lower_bound\", ascending=False)\n",
    "df.drop('Unnamed: 0', inplace = True, axis = 1)\n",
    "df.head()"
   ]
  },
  {
   "cell_type": "code",
   "execution_count": 14,
   "id": "6904a6e8-06e3-4fb9-8942-2fce43ad14bf",
   "metadata": {},
   "outputs": [
    {
     "name": "stdout",
     "output_type": "stream",
     "text": [
      "~~~~~~~~~~~~~~~~~~~~~~~~~~~~~~~~~~~~~ SHAPE ~~~~~~~~~~~~~~~~~~~~~~~~~~~~~~~~~~~~~~\n",
      "Rows: 9830\n",
      "Columns: 11\n",
      "~~~~~~~~~~~~~~~~~~~~~~~~~~~~~~~~~~~~~ TYPES ~~~~~~~~~~~~~~~~~~~~~~~~~~~~~~~~~~~~~~\n",
      "reviewerName             object\n",
      "overall                 float64\n",
      "reviewText               object\n",
      "reviewTime               object\n",
      "day_diff                  int64\n",
      "helpful_yes               int64\n",
      "helpful_no                int64\n",
      "total_vote                int64\n",
      "score_pos_neg_diff        int64\n",
      "score_average_rating    float64\n",
      "wilson_lower_bound      float64\n",
      "dtype: object\n",
      "~~~~~~~~~~~~~~~~~~~~~~~~~~~~~~~~~~~~~~~~~~~~~~~~~~~~~~~~~~~~~~~~~~~~~~~~~~~~~~~~~~\n",
      "              Total Missing Values  Ratio\n",
      "reviewerName                     2   0.02\n",
      "reviewText                       2   0.02\n",
      "~~~~~~~~~~~~~~~~~~~~~~~~~~~~~~~~ DUPLICATED VALUES ~~~~~~~~~~~~~~~~~~~~~~~~~~~~~~~~\n",
      "0\n",
      "~~~~~~~~~~~~~~~~~~~~~~~~~~~~~~~~~~~ QUANTILES ~~~~~~~~~~~~~~~~~~~~~~~~~~~~~~~~~~~~\n",
      "                       0.00  0.05   0.50        0.95       0.99         1.00\n",
      "overall                 1.0   2.0    5.0    5.000000    5.00000     5.000000\n",
      "day_diff                1.0  98.0  431.0  748.000000  943.00000  1064.000000\n",
      "helpful_yes             0.0   0.0    0.0    1.000000    3.00000  1952.000000\n",
      "helpful_no              0.0   0.0    0.0    0.000000    2.00000   183.000000\n",
      "total_vote              0.0   0.0    0.0    1.000000    4.00000  2020.000000\n",
      "score_pos_neg_diff   -130.0   0.0    0.0    1.000000    2.00000  1884.000000\n",
      "score_average_rating    0.0   0.0    0.0    1.000000    1.00000     1.000000\n",
      "wilson_lower_bound      0.0   0.0    0.0    0.206549    0.34238     0.957544\n"
     ]
    }
   ],
   "source": [
    "import pandas as pd\n",
    "import numpy as np\n",
    "\n",
    "def missing_values_analysis(df):\n",
    "    na_columns_ = [col for col in df.columns if df[col].isnull().sum() > 0]\n",
    "    n_miss = df[na_columns_].isnull().sum().sort_values(ascending=True)\n",
    "    ratio_ = (df[na_columns_].isnull().sum() / df.shape[0] * 100).sort_values(ascending=True)\n",
    "    missing_df = pd.concat([n_miss, np.round(ratio_, 2)], axis=1, keys=['Total Missing Values', 'Ratio'])\n",
    "    missing_df = pd.DataFrame(missing_df)\n",
    "    return missing_df\n",
    "\n",
    "def check_dataframe(df, head=5, tail=5):\n",
    "    print(\" SHAPE \".center(82, '~'))\n",
    "    print('Rows: {}'.format(df.shape[0]))\n",
    "    print('Columns: {}'.format(df.shape[1]))\n",
    "\n",
    "    print(\" TYPES \".center(82, '~'))\n",
    "    print(df.dtypes)\n",
    "    print(\"\".center(82, '~'))\n",
    "    \n",
    "    print(missing_values_analysis(df))\n",
    "    \n",
    "    print(' DUPLICATED VALUES '.center(83, '~'))\n",
    "    print(df.duplicated().sum())\n",
    "\n",
    "    print(\" QUANTILES \".center(82, '~'))\n",
    "    # Select only numeric columns for quantile calculation\n",
    "    numeric_cols = df.select_dtypes(include=[np.number])\n",
    "    print(numeric_cols.quantile([0, 0.05, 0.50, 0.95, 0.99, 1]).T)\n",
    "\n",
    "check_dataframe(df)\n"
   ]
  },
  {
   "cell_type": "code",
   "execution_count": 15,
   "id": "461880c8-f353-4487-822e-27bad7fab06d",
   "metadata": {},
   "outputs": [
    {
     "data": {
      "text/html": [
       "<div>\n",
       "<style scoped>\n",
       "    .dataframe tbody tr th:only-of-type {\n",
       "        vertical-align: middle;\n",
       "    }\n",
       "\n",
       "    .dataframe tbody tr th {\n",
       "        vertical-align: top;\n",
       "    }\n",
       "\n",
       "    .dataframe thead th {\n",
       "        text-align: right;\n",
       "    }\n",
       "</style>\n",
       "<table border=\"1\" class=\"dataframe\">\n",
       "  <thead>\n",
       "    <tr style=\"text-align: right;\">\n",
       "      <th></th>\n",
       "      <th>Variable</th>\n",
       "      <th>Classes</th>\n",
       "    </tr>\n",
       "  </thead>\n",
       "  <tbody>\n",
       "    <tr>\n",
       "      <th>0</th>\n",
       "      <td>reviewText</td>\n",
       "      <td>4912</td>\n",
       "    </tr>\n",
       "    <tr>\n",
       "      <th>1</th>\n",
       "      <td>reviewerName</td>\n",
       "      <td>4595</td>\n",
       "    </tr>\n",
       "    <tr>\n",
       "      <th>2</th>\n",
       "      <td>reviewTime</td>\n",
       "      <td>1380</td>\n",
       "    </tr>\n",
       "    <tr>\n",
       "      <th>3</th>\n",
       "      <td>day_diff</td>\n",
       "      <td>690</td>\n",
       "    </tr>\n",
       "    <tr>\n",
       "      <th>4</th>\n",
       "      <td>wilson_lower_bound</td>\n",
       "      <td>79</td>\n",
       "    </tr>\n",
       "    <tr>\n",
       "      <th>5</th>\n",
       "      <td>score_average_rating</td>\n",
       "      <td>47</td>\n",
       "    </tr>\n",
       "    <tr>\n",
       "      <th>6</th>\n",
       "      <td>score_pos_neg_diff</td>\n",
       "      <td>27</td>\n",
       "    </tr>\n",
       "    <tr>\n",
       "      <th>7</th>\n",
       "      <td>total_vote</td>\n",
       "      <td>26</td>\n",
       "    </tr>\n",
       "    <tr>\n",
       "      <th>8</th>\n",
       "      <td>helpful_yes</td>\n",
       "      <td>23</td>\n",
       "    </tr>\n",
       "    <tr>\n",
       "      <th>9</th>\n",
       "      <td>helpful_no</td>\n",
       "      <td>17</td>\n",
       "    </tr>\n",
       "    <tr>\n",
       "      <th>10</th>\n",
       "      <td>overall</td>\n",
       "      <td>5</td>\n",
       "    </tr>\n",
       "  </tbody>\n",
       "</table>\n",
       "</div>"
      ],
      "text/plain": [
       "                Variable  Classes\n",
       "0             reviewText     4912\n",
       "1           reviewerName     4595\n",
       "2             reviewTime     1380\n",
       "3               day_diff      690\n",
       "4     wilson_lower_bound       79\n",
       "5   score_average_rating       47\n",
       "6     score_pos_neg_diff       27\n",
       "7             total_vote       26\n",
       "8            helpful_yes       23\n",
       "9             helpful_no       17\n",
       "10               overall        5"
      ]
     },
     "execution_count": 15,
     "metadata": {},
     "output_type": "execute_result"
    }
   ],
   "source": [
    "def check_class(dataframe):\n",
    "    nunique_df = pd.DataFrame({'Variable': dataframe.columns,\n",
    "                               'Classes': [dataframe[i].nunique() \\\n",
    "                                           for i in dataframe.columns]})\n",
    "\n",
    "    nunique_df = nunique_df.sort_values('Classes', ascending=False)\n",
    "    nunique_df = nunique_df.reset_index(drop = True)\n",
    "    return nunique_df\n",
    "\n",
    "check_class(df)"
   ]
  },
  {
   "cell_type": "code",
   "execution_count": 28,
   "id": "a6b07954-d72e-47e7-8a68-33ae02b0b9e8",
   "metadata": {},
   "outputs": [],
   "source": [
    "def categorical_variable_summary(df, column_name, colors=None):\n",
    "    # Default color palette if none is provided\n",
    "    if colors is None:\n",
    "        colors = ['#581845', '#C70039', '#2E4053', '#1ABC9C', '#7F8C8D']\n",
    "    \n",
    "    fig = make_subplots(\n",
    "        rows=1, cols=2,\n",
    "        subplot_titles=['Countplot', 'Percentage Distribution'],\n",
    "        specs=[[{\"type\": \"xy\"}, {\"type\": \"domain\"}]]\n",
    "    )\n",
    "\n",
    "    # Countplot\n",
    "    fig.add_trace(\n",
    "        go.Bar(\n",
    "            y=df[column_name].value_counts().values.tolist(),\n",
    "            x=[str(i) for i in df[column_name].value_counts().index],\n",
    "            text=df[column_name].value_counts().values.tolist(),\n",
    "            textfont=dict(size=15),\n",
    "            name=column_name,\n",
    "            textposition='auto',\n",
    "            showlegend=False,\n",
    "            marker=dict(color=colors, line=dict(color='#DBE6EC', width=1))\n",
    "        ),\n",
    "        row=1, col=1\n",
    "    )\n",
    "\n",
    "    # Pie chart\n",
    "    fig.add_trace(\n",
    "        go.Pie(\n",
    "            labels=df[column_name].value_counts().keys(),\n",
    "            values=df[column_name].value_counts().values,\n",
    "            textfont=dict(size=20),\n",
    "            textposition='auto',\n",
    "            showlegend=False,\n",
    "            name=column_name,\n",
    "            marker=dict(colors=colors)\n",
    "        ),\n",
    "        row=1, col=2\n",
    "    )\n",
    "    \n",
    "    # Layout settings\n",
    "    fig.update_layout(\n",
    "        title={\n",
    "            'text': f\"Categorical Summary: {column_name}\",\n",
    "            'y': 0.9,\n",
    "            'x': 0.5,\n",
    "            'xanchor': 'center',\n",
    "            'yanchor': 'top'\n",
    "        },\n",
    "        template='plotly_white'\n",
    "    )\n",
    "    \n",
    "    iplot(fig)\n"
   ]
  },
  {
   "cell_type": "code",
   "execution_count": 29,
   "id": "554a9183-7dc6-433a-8bed-ce9f0a517a02",
   "metadata": {},
   "outputs": [
    {
     "data": {
      "application/vnd.plotly.v1+json": {
       "config": {
        "linkText": "Export to plot.ly",
        "plotlyServerURL": "https://plot.ly",
        "showLink": false
       },
       "data": [
        {
         "marker": {
          "color": [
           "#581845",
           "#C70039",
           "#2E4053",
           "#1ABC9C",
           "#7F8C8D"
          ],
          "line": {
           "color": "#DBE6EC",
           "width": 1
          }
         },
         "name": "overall",
         "showlegend": false,
         "text": [
          "7844",
          "1054",
          "488",
          "284",
          "160"
         ],
         "textfont": {
          "size": 15
         },
         "textposition": "auto",
         "type": "bar",
         "x": [
          "5.0",
          "4.0",
          "1.0",
          "3.0",
          "2.0"
         ],
         "xaxis": "x",
         "y": [
          7844,
          1054,
          488,
          284,
          160
         ],
         "yaxis": "y"
        },
        {
         "domain": {
          "x": [
           0.55,
           1
          ],
          "y": [
           0,
           1
          ]
         },
         "labels": [
          5,
          4,
          1,
          3,
          2
         ],
         "marker": {
          "colors": [
           "#581845",
           "#C70039",
           "#2E4053",
           "#1ABC9C",
           "#7F8C8D"
          ]
         },
         "name": "overall",
         "showlegend": false,
         "textfont": {
          "size": 20
         },
         "textposition": "auto",
         "type": "pie",
         "values": [
          7844,
          1054,
          488,
          284,
          160
         ]
        }
       ],
       "layout": {
        "annotations": [
         {
          "font": {
           "size": 16
          },
          "showarrow": false,
          "text": "Countplot",
          "x": 0.225,
          "xanchor": "center",
          "xref": "paper",
          "y": 1,
          "yanchor": "bottom",
          "yref": "paper"
         },
         {
          "font": {
           "size": 16
          },
          "showarrow": false,
          "text": "Percentage Distribution",
          "x": 0.775,
          "xanchor": "center",
          "xref": "paper",
          "y": 1,
          "yanchor": "bottom",
          "yref": "paper"
         }
        ],
        "autosize": true,
        "template": {
         "data": {
          "bar": [
           {
            "error_x": {
             "color": "#2a3f5f"
            },
            "error_y": {
             "color": "#2a3f5f"
            },
            "marker": {
             "line": {
              "color": "white",
              "width": 0.5
             },
             "pattern": {
              "fillmode": "overlay",
              "size": 10,
              "solidity": 0.2
             }
            },
            "type": "bar"
           }
          ],
          "barpolar": [
           {
            "marker": {
             "line": {
              "color": "white",
              "width": 0.5
             },
             "pattern": {
              "fillmode": "overlay",
              "size": 10,
              "solidity": 0.2
             }
            },
            "type": "barpolar"
           }
          ],
          "carpet": [
           {
            "aaxis": {
             "endlinecolor": "#2a3f5f",
             "gridcolor": "#C8D4E3",
             "linecolor": "#C8D4E3",
             "minorgridcolor": "#C8D4E3",
             "startlinecolor": "#2a3f5f"
            },
            "baxis": {
             "endlinecolor": "#2a3f5f",
             "gridcolor": "#C8D4E3",
             "linecolor": "#C8D4E3",
             "minorgridcolor": "#C8D4E3",
             "startlinecolor": "#2a3f5f"
            },
            "type": "carpet"
           }
          ],
          "choropleth": [
           {
            "colorbar": {
             "outlinewidth": 0,
             "ticks": ""
            },
            "type": "choropleth"
           }
          ],
          "contour": [
           {
            "colorbar": {
             "outlinewidth": 0,
             "ticks": ""
            },
            "colorscale": [
             [
              0,
              "#0d0887"
             ],
             [
              0.1111111111111111,
              "#46039f"
             ],
             [
              0.2222222222222222,
              "#7201a8"
             ],
             [
              0.3333333333333333,
              "#9c179e"
             ],
             [
              0.4444444444444444,
              "#bd3786"
             ],
             [
              0.5555555555555556,
              "#d8576b"
             ],
             [
              0.6666666666666666,
              "#ed7953"
             ],
             [
              0.7777777777777778,
              "#fb9f3a"
             ],
             [
              0.8888888888888888,
              "#fdca26"
             ],
             [
              1,
              "#f0f921"
             ]
            ],
            "type": "contour"
           }
          ],
          "contourcarpet": [
           {
            "colorbar": {
             "outlinewidth": 0,
             "ticks": ""
            },
            "type": "contourcarpet"
           }
          ],
          "heatmap": [
           {
            "colorbar": {
             "outlinewidth": 0,
             "ticks": ""
            },
            "colorscale": [
             [
              0,
              "#0d0887"
             ],
             [
              0.1111111111111111,
              "#46039f"
             ],
             [
              0.2222222222222222,
              "#7201a8"
             ],
             [
              0.3333333333333333,
              "#9c179e"
             ],
             [
              0.4444444444444444,
              "#bd3786"
             ],
             [
              0.5555555555555556,
              "#d8576b"
             ],
             [
              0.6666666666666666,
              "#ed7953"
             ],
             [
              0.7777777777777778,
              "#fb9f3a"
             ],
             [
              0.8888888888888888,
              "#fdca26"
             ],
             [
              1,
              "#f0f921"
             ]
            ],
            "type": "heatmap"
           }
          ],
          "heatmapgl": [
           {
            "colorbar": {
             "outlinewidth": 0,
             "ticks": ""
            },
            "colorscale": [
             [
              0,
              "#0d0887"
             ],
             [
              0.1111111111111111,
              "#46039f"
             ],
             [
              0.2222222222222222,
              "#7201a8"
             ],
             [
              0.3333333333333333,
              "#9c179e"
             ],
             [
              0.4444444444444444,
              "#bd3786"
             ],
             [
              0.5555555555555556,
              "#d8576b"
             ],
             [
              0.6666666666666666,
              "#ed7953"
             ],
             [
              0.7777777777777778,
              "#fb9f3a"
             ],
             [
              0.8888888888888888,
              "#fdca26"
             ],
             [
              1,
              "#f0f921"
             ]
            ],
            "type": "heatmapgl"
           }
          ],
          "histogram": [
           {
            "marker": {
             "pattern": {
              "fillmode": "overlay",
              "size": 10,
              "solidity": 0.2
             }
            },
            "type": "histogram"
           }
          ],
          "histogram2d": [
           {
            "colorbar": {
             "outlinewidth": 0,
             "ticks": ""
            },
            "colorscale": [
             [
              0,
              "#0d0887"
             ],
             [
              0.1111111111111111,
              "#46039f"
             ],
             [
              0.2222222222222222,
              "#7201a8"
             ],
             [
              0.3333333333333333,
              "#9c179e"
             ],
             [
              0.4444444444444444,
              "#bd3786"
             ],
             [
              0.5555555555555556,
              "#d8576b"
             ],
             [
              0.6666666666666666,
              "#ed7953"
             ],
             [
              0.7777777777777778,
              "#fb9f3a"
             ],
             [
              0.8888888888888888,
              "#fdca26"
             ],
             [
              1,
              "#f0f921"
             ]
            ],
            "type": "histogram2d"
           }
          ],
          "histogram2dcontour": [
           {
            "colorbar": {
             "outlinewidth": 0,
             "ticks": ""
            },
            "colorscale": [
             [
              0,
              "#0d0887"
             ],
             [
              0.1111111111111111,
              "#46039f"
             ],
             [
              0.2222222222222222,
              "#7201a8"
             ],
             [
              0.3333333333333333,
              "#9c179e"
             ],
             [
              0.4444444444444444,
              "#bd3786"
             ],
             [
              0.5555555555555556,
              "#d8576b"
             ],
             [
              0.6666666666666666,
              "#ed7953"
             ],
             [
              0.7777777777777778,
              "#fb9f3a"
             ],
             [
              0.8888888888888888,
              "#fdca26"
             ],
             [
              1,
              "#f0f921"
             ]
            ],
            "type": "histogram2dcontour"
           }
          ],
          "mesh3d": [
           {
            "colorbar": {
             "outlinewidth": 0,
             "ticks": ""
            },
            "type": "mesh3d"
           }
          ],
          "parcoords": [
           {
            "line": {
             "colorbar": {
              "outlinewidth": 0,
              "ticks": ""
             }
            },
            "type": "parcoords"
           }
          ],
          "pie": [
           {
            "automargin": true,
            "type": "pie"
           }
          ],
          "scatter": [
           {
            "fillpattern": {
             "fillmode": "overlay",
             "size": 10,
             "solidity": 0.2
            },
            "type": "scatter"
           }
          ],
          "scatter3d": [
           {
            "line": {
             "colorbar": {
              "outlinewidth": 0,
              "ticks": ""
             }
            },
            "marker": {
             "colorbar": {
              "outlinewidth": 0,
              "ticks": ""
             }
            },
            "type": "scatter3d"
           }
          ],
          "scattercarpet": [
           {
            "marker": {
             "colorbar": {
              "outlinewidth": 0,
              "ticks": ""
             }
            },
            "type": "scattercarpet"
           }
          ],
          "scattergeo": [
           {
            "marker": {
             "colorbar": {
              "outlinewidth": 0,
              "ticks": ""
             }
            },
            "type": "scattergeo"
           }
          ],
          "scattergl": [
           {
            "marker": {
             "colorbar": {
              "outlinewidth": 0,
              "ticks": ""
             }
            },
            "type": "scattergl"
           }
          ],
          "scattermapbox": [
           {
            "marker": {
             "colorbar": {
              "outlinewidth": 0,
              "ticks": ""
             }
            },
            "type": "scattermapbox"
           }
          ],
          "scatterpolar": [
           {
            "marker": {
             "colorbar": {
              "outlinewidth": 0,
              "ticks": ""
             }
            },
            "type": "scatterpolar"
           }
          ],
          "scatterpolargl": [
           {
            "marker": {
             "colorbar": {
              "outlinewidth": 0,
              "ticks": ""
             }
            },
            "type": "scatterpolargl"
           }
          ],
          "scatterternary": [
           {
            "marker": {
             "colorbar": {
              "outlinewidth": 0,
              "ticks": ""
             }
            },
            "type": "scatterternary"
           }
          ],
          "surface": [
           {
            "colorbar": {
             "outlinewidth": 0,
             "ticks": ""
            },
            "colorscale": [
             [
              0,
              "#0d0887"
             ],
             [
              0.1111111111111111,
              "#46039f"
             ],
             [
              0.2222222222222222,
              "#7201a8"
             ],
             [
              0.3333333333333333,
              "#9c179e"
             ],
             [
              0.4444444444444444,
              "#bd3786"
             ],
             [
              0.5555555555555556,
              "#d8576b"
             ],
             [
              0.6666666666666666,
              "#ed7953"
             ],
             [
              0.7777777777777778,
              "#fb9f3a"
             ],
             [
              0.8888888888888888,
              "#fdca26"
             ],
             [
              1,
              "#f0f921"
             ]
            ],
            "type": "surface"
           }
          ],
          "table": [
           {
            "cells": {
             "fill": {
              "color": "#EBF0F8"
             },
             "line": {
              "color": "white"
             }
            },
            "header": {
             "fill": {
              "color": "#C8D4E3"
             },
             "line": {
              "color": "white"
             }
            },
            "type": "table"
           }
          ]
         },
         "layout": {
          "annotationdefaults": {
           "arrowcolor": "#2a3f5f",
           "arrowhead": 0,
           "arrowwidth": 1
          },
          "autotypenumbers": "strict",
          "coloraxis": {
           "colorbar": {
            "outlinewidth": 0,
            "ticks": ""
           }
          },
          "colorscale": {
           "diverging": [
            [
             0,
             "#8e0152"
            ],
            [
             0.1,
             "#c51b7d"
            ],
            [
             0.2,
             "#de77ae"
            ],
            [
             0.3,
             "#f1b6da"
            ],
            [
             0.4,
             "#fde0ef"
            ],
            [
             0.5,
             "#f7f7f7"
            ],
            [
             0.6,
             "#e6f5d0"
            ],
            [
             0.7,
             "#b8e186"
            ],
            [
             0.8,
             "#7fbc41"
            ],
            [
             0.9,
             "#4d9221"
            ],
            [
             1,
             "#276419"
            ]
           ],
           "sequential": [
            [
             0,
             "#0d0887"
            ],
            [
             0.1111111111111111,
             "#46039f"
            ],
            [
             0.2222222222222222,
             "#7201a8"
            ],
            [
             0.3333333333333333,
             "#9c179e"
            ],
            [
             0.4444444444444444,
             "#bd3786"
            ],
            [
             0.5555555555555556,
             "#d8576b"
            ],
            [
             0.6666666666666666,
             "#ed7953"
            ],
            [
             0.7777777777777778,
             "#fb9f3a"
            ],
            [
             0.8888888888888888,
             "#fdca26"
            ],
            [
             1,
             "#f0f921"
            ]
           ],
           "sequentialminus": [
            [
             0,
             "#0d0887"
            ],
            [
             0.1111111111111111,
             "#46039f"
            ],
            [
             0.2222222222222222,
             "#7201a8"
            ],
            [
             0.3333333333333333,
             "#9c179e"
            ],
            [
             0.4444444444444444,
             "#bd3786"
            ],
            [
             0.5555555555555556,
             "#d8576b"
            ],
            [
             0.6666666666666666,
             "#ed7953"
            ],
            [
             0.7777777777777778,
             "#fb9f3a"
            ],
            [
             0.8888888888888888,
             "#fdca26"
            ],
            [
             1,
             "#f0f921"
            ]
           ]
          },
          "colorway": [
           "#636efa",
           "#EF553B",
           "#00cc96",
           "#ab63fa",
           "#FFA15A",
           "#19d3f3",
           "#FF6692",
           "#B6E880",
           "#FF97FF",
           "#FECB52"
          ],
          "font": {
           "color": "#2a3f5f"
          },
          "geo": {
           "bgcolor": "white",
           "lakecolor": "white",
           "landcolor": "white",
           "showlakes": true,
           "showland": true,
           "subunitcolor": "#C8D4E3"
          },
          "hoverlabel": {
           "align": "left"
          },
          "hovermode": "closest",
          "mapbox": {
           "style": "light"
          },
          "paper_bgcolor": "white",
          "plot_bgcolor": "white",
          "polar": {
           "angularaxis": {
            "gridcolor": "#EBF0F8",
            "linecolor": "#EBF0F8",
            "ticks": ""
           },
           "bgcolor": "white",
           "radialaxis": {
            "gridcolor": "#EBF0F8",
            "linecolor": "#EBF0F8",
            "ticks": ""
           }
          },
          "scene": {
           "xaxis": {
            "backgroundcolor": "white",
            "gridcolor": "#DFE8F3",
            "gridwidth": 2,
            "linecolor": "#EBF0F8",
            "showbackground": true,
            "ticks": "",
            "zerolinecolor": "#EBF0F8"
           },
           "yaxis": {
            "backgroundcolor": "white",
            "gridcolor": "#DFE8F3",
            "gridwidth": 2,
            "linecolor": "#EBF0F8",
            "showbackground": true,
            "ticks": "",
            "zerolinecolor": "#EBF0F8"
           },
           "zaxis": {
            "backgroundcolor": "white",
            "gridcolor": "#DFE8F3",
            "gridwidth": 2,
            "linecolor": "#EBF0F8",
            "showbackground": true,
            "ticks": "",
            "zerolinecolor": "#EBF0F8"
           }
          },
          "shapedefaults": {
           "line": {
            "color": "#2a3f5f"
           }
          },
          "ternary": {
           "aaxis": {
            "gridcolor": "#DFE8F3",
            "linecolor": "#A2B1C6",
            "ticks": ""
           },
           "baxis": {
            "gridcolor": "#DFE8F3",
            "linecolor": "#A2B1C6",
            "ticks": ""
           },
           "bgcolor": "white",
           "caxis": {
            "gridcolor": "#DFE8F3",
            "linecolor": "#A2B1C6",
            "ticks": ""
           }
          },
          "title": {
           "x": 0.05
          },
          "xaxis": {
           "automargin": true,
           "gridcolor": "#EBF0F8",
           "linecolor": "#EBF0F8",
           "ticks": "",
           "title": {
            "standoff": 15
           },
           "zerolinecolor": "#EBF0F8",
           "zerolinewidth": 2
          },
          "yaxis": {
           "automargin": true,
           "gridcolor": "#EBF0F8",
           "linecolor": "#EBF0F8",
           "ticks": "",
           "title": {
            "standoff": 15
           },
           "zerolinecolor": "#EBF0F8",
           "zerolinewidth": 2
          }
         }
        },
        "title": {
         "text": "Categorical Summary: overall",
         "x": 0.5,
         "xanchor": "center",
         "y": 0.9,
         "yanchor": "top"
        },
        "xaxis": {
         "anchor": "y",
         "autorange": true,
         "domain": [
          0,
          0.45
         ],
         "range": [
          -0.5,
          4.5
         ],
         "type": "category"
        },
        "yaxis": {
         "anchor": "x",
         "autorange": true,
         "domain": [
          0,
          1
         ],
         "range": [
          0,
          8256.842105263158
         ],
         "type": "linear"
        }
       }
      },
      "image/png": "[encoded data removed]",
      "text/html": [
       "<div>                            <div id=\"c2787896-0bdd-4307-bb21-beb459aced69\" class=\"plotly-graph-div\" style=\"height:525px; width:100%;\"></div>            <script type=\"text/javascript\">                require([\"plotly\"], function(Plotly) {                    window.PLOTLYENV=window.PLOTLYENV || {};                                    if (document.getElementById(\"c2787896-0bdd-4307-bb21-beb459aced69\")) {                    Plotly.newPlot(                        \"c2787896-0bdd-4307-bb21-beb459aced69\",                        [{\"marker\":{\"color\":[\"#581845\",\"#C70039\",\"#2E4053\",\"#1ABC9C\",\"#7F8C8D\"],\"line\":{\"color\":\"#DBE6EC\",\"width\":1}},\"name\":\"overall\",\"showlegend\":false,\"text\":[\"7844\",\"1054\",\"488\",\"284\",\"160\"],\"textfont\":{\"size\":15},\"textposition\":\"auto\",\"x\":[\"5.0\",\"4.0\",\"1.0\",\"3.0\",\"2.0\"],\"xaxis\":\"x\",\"y\":[7844,1054,488,284,160],\"yaxis\":\"y\",\"type\":\"bar\"},{\"domain\":{\"x\":[0.55,1.0],\"y\":[0.0,1.0]},\"labels\":[5.0,4.0,1.0,3.0,2.0],\"marker\":{\"colors\":[\"#581845\",\"#C70039\",\"#2E4053\",\"#1ABC9C\",\"#7F8C8D\"]},\"name\":\"overall\",\"showlegend\":false,\"textfont\":{\"size\":20},\"textposition\":\"auto\",\"values\":[7844,1054,488,284,160],\"type\":\"pie\"}],                        {\"annotations\":[{\"font\":{\"size\":16},\"showarrow\":false,\"text\":\"Countplot\",\"x\":0.225,\"xanchor\":\"center\",\"xref\":\"paper\",\"y\":1.0,\"yanchor\":\"bottom\",\"yref\":\"paper\"},{\"font\":{\"size\":16},\"showarrow\":false,\"text\":\"Percentage Distribution\",\"x\":0.775,\"xanchor\":\"center\",\"xref\":\"paper\",\"y\":1.0,\"yanchor\":\"bottom\",\"yref\":\"paper\"}],\"template\":{\"data\":{\"barpolar\":[{\"marker\":{\"line\":{\"color\":\"white\",\"width\":0.5},\"pattern\":{\"fillmode\":\"overlay\",\"size\":10,\"solidity\":0.2}},\"type\":\"barpolar\"}],\"bar\":[{\"error_x\":{\"color\":\"#2a3f5f\"},\"error_y\":{\"color\":\"#2a3f5f\"},\"marker\":{\"line\":{\"color\":\"white\",\"width\":0.5},\"pattern\":{\"fillmode\":\"overlay\",\"size\":10,\"solidity\":0.2}},\"type\":\"bar\"}],\"carpet\":[{\"aaxis\":{\"endlinecolor\":\"#2a3f5f\",\"gridcolor\":\"#C8D4E3\",\"linecolor\":\"#C8D4E3\",\"minorgridcolor\":\"#C8D4E3\",\"startlinecolor\":\"#2a3f5f\"},\"baxis\":{\"endlinecolor\":\"#2a3f5f\",\"gridcolor\":\"#C8D4E3\",\"linecolor\":\"#C8D4E3\",\"minorgridcolor\":\"#C8D4E3\",\"startlinecolor\":\"#2a3f5f\"},\"type\":\"carpet\"}],\"choropleth\":[{\"colorbar\":{\"outlinewidth\":0,\"ticks\":\"\"},\"type\":\"choropleth\"}],\"contourcarpet\":[{\"colorbar\":{\"outlinewidth\":0,\"ticks\":\"\"},\"type\":\"contourcarpet\"}],\"contour\":[{\"colorbar\":{\"outlinewidth\":0,\"ticks\":\"\"},\"colorscale\":[[0.0,\"#0d0887\"],[0.1111111111111111,\"#46039f\"],[0.2222222222222222,\"#7201a8\"],[0.3333333333333333,\"#9c179e\"],[0.4444444444444444,\"#bd3786\"],[0.5555555555555556,\"#d8576b\"],[0.6666666666666666,\"#ed7953\"],[0.7777777777777778,\"#fb9f3a\"],[0.8888888888888888,\"#fdca26\"],[1.0,\"#f0f921\"]],\"type\":\"contour\"}],\"heatmapgl\":[{\"colorbar\":{\"outlinewidth\":0,\"ticks\":\"\"},\"colorscale\":[[0.0,\"#0d0887\"],[0.1111111111111111,\"#46039f\"],[0.2222222222222222,\"#7201a8\"],[0.3333333333333333,\"#9c179e\"],[0.4444444444444444,\"#bd3786\"],[0.5555555555555556,\"#d8576b\"],[0.6666666666666666,\"#ed7953\"],[0.7777777777777778,\"#fb9f3a\"],[0.8888888888888888,\"#fdca26\"],[1.0,\"#f0f921\"]],\"type\":\"heatmapgl\"}],\"heatmap\":[{\"colorbar\":{\"outlinewidth\":0,\"ticks\":\"\"},\"colorscale\":[[0.0,\"#0d0887\"],[0.1111111111111111,\"#46039f\"],[0.2222222222222222,\"#7201a8\"],[0.3333333333333333,\"#9c179e\"],[0.4444444444444444,\"#bd3786\"],[0.5555555555555556,\"#d8576b\"],[0.6666666666666666,\"#ed7953\"],[0.7777777777777778,\"#fb9f3a\"],[0.8888888888888888,\"#fdca26\"],[1.0,\"#f0f921\"]],\"type\":\"heatmap\"}],\"histogram2dcontour\":[{\"colorbar\":{\"outlinewidth\":0,\"ticks\":\"\"},\"colorscale\":[[0.0,\"#0d0887\"],[0.1111111111111111,\"#46039f\"],[0.2222222222222222,\"#7201a8\"],[0.3333333333333333,\"#9c179e\"],[0.4444444444444444,\"#bd3786\"],[0.5555555555555556,\"#d8576b\"],[0.6666666666666666,\"#ed7953\"],[0.7777777777777778,\"#fb9f3a\"],[0.8888888888888888,\"#fdca26\"],[1.0,\"#f0f921\"]],\"type\":\"histogram2dcontour\"}],\"histogram2d\":[{\"colorbar\":{\"outlinewidth\":0,\"ticks\":\"\"},\"colorscale\":[[0.0,\"#0d0887\"],[0.1111111111111111,\"#46039f\"],[0.2222222222222222,\"#7201a8\"],[0.3333333333333333,\"#9c179e\"],[0.4444444444444444,\"#bd3786\"],[0.5555555555555556,\"#d8576b\"],[0.6666666666666666,\"#ed7953\"],[0.7777777777777778,\"#fb9f3a\"],[0.8888888888888888,\"#fdca26\"],[1.0,\"#f0f921\"]],\"type\":\"histogram2d\"}],\"histogram\":[{\"marker\":{\"pattern\":{\"fillmode\":\"overlay\",\"size\":10,\"solidity\":0.2}},\"type\":\"histogram\"}],\"mesh3d\":[{\"colorbar\":{\"outlinewidth\":0,\"ticks\":\"\"},\"type\":\"mesh3d\"}],\"parcoords\":[{\"line\":{\"colorbar\":{\"outlinewidth\":0,\"ticks\":\"\"}},\"type\":\"parcoords\"}],\"pie\":[{\"automargin\":true,\"type\":\"pie\"}],\"scatter3d\":[{\"line\":{\"colorbar\":{\"outlinewidth\":0,\"ticks\":\"\"}},\"marker\":{\"colorbar\":{\"outlinewidth\":0,\"ticks\":\"\"}},\"type\":\"scatter3d\"}],\"scattercarpet\":[{\"marker\":{\"colorbar\":{\"outlinewidth\":0,\"ticks\":\"\"}},\"type\":\"scattercarpet\"}],\"scattergeo\":[{\"marker\":{\"colorbar\":{\"outlinewidth\":0,\"ticks\":\"\"}},\"type\":\"scattergeo\"}],\"scattergl\":[{\"marker\":{\"colorbar\":{\"outlinewidth\":0,\"ticks\":\"\"}},\"type\":\"scattergl\"}],\"scattermapbox\":[{\"marker\":{\"colorbar\":{\"outlinewidth\":0,\"ticks\":\"\"}},\"type\":\"scattermapbox\"}],\"scatterpolargl\":[{\"marker\":{\"colorbar\":{\"outlinewidth\":0,\"ticks\":\"\"}},\"type\":\"scatterpolargl\"}],\"scatterpolar\":[{\"marker\":{\"colorbar\":{\"outlinewidth\":0,\"ticks\":\"\"}},\"type\":\"scatterpolar\"}],\"scatter\":[{\"fillpattern\":{\"fillmode\":\"overlay\",\"size\":10,\"solidity\":0.2},\"type\":\"scatter\"}],\"scatterternary\":[{\"marker\":{\"colorbar\":{\"outlinewidth\":0,\"ticks\":\"\"}},\"type\":\"scatterternary\"}],\"surface\":[{\"colorbar\":{\"outlinewidth\":0,\"ticks\":\"\"},\"colorscale\":[[0.0,\"#0d0887\"],[0.1111111111111111,\"#46039f\"],[0.2222222222222222,\"#7201a8\"],[0.3333333333333333,\"#9c179e\"],[0.4444444444444444,\"#bd3786\"],[0.5555555555555556,\"#d8576b\"],[0.6666666666666666,\"#ed7953\"],[0.7777777777777778,\"#fb9f3a\"],[0.8888888888888888,\"#fdca26\"],[1.0,\"#f0f921\"]],\"type\":\"surface\"}],\"table\":[{\"cells\":{\"fill\":{\"color\":\"#EBF0F8\"},\"line\":{\"color\":\"white\"}},\"header\":{\"fill\":{\"color\":\"#C8D4E3\"},\"line\":{\"color\":\"white\"}},\"type\":\"table\"}]},\"layout\":{\"annotationdefaults\":{\"arrowcolor\":\"#2a3f5f\",\"arrowhead\":0,\"arrowwidth\":1},\"autotypenumbers\":\"strict\",\"coloraxis\":{\"colorbar\":{\"outlinewidth\":0,\"ticks\":\"\"}},\"colorscale\":{\"diverging\":[[0,\"#8e0152\"],[0.1,\"#c51b7d\"],[0.2,\"#de77ae\"],[0.3,\"#f1b6da\"],[0.4,\"#fde0ef\"],[0.5,\"#f7f7f7\"],[0.6,\"#e6f5d0\"],[0.7,\"#b8e186\"],[0.8,\"#7fbc41\"],[0.9,\"#4d9221\"],[1,\"#276419\"]],\"sequential\":[[0.0,\"#0d0887\"],[0.1111111111111111,\"#46039f\"],[0.2222222222222222,\"#7201a8\"],[0.3333333333333333,\"#9c179e\"],[0.4444444444444444,\"#bd3786\"],[0.5555555555555556,\"#d8576b\"],[0.6666666666666666,\"#ed7953\"],[0.7777777777777778,\"#fb9f3a\"],[0.8888888888888888,\"#fdca26\"],[1.0,\"#f0f921\"]],\"sequentialminus\":[[0.0,\"#0d0887\"],[0.1111111111111111,\"#46039f\"],[0.2222222222222222,\"#7201a8\"],[0.3333333333333333,\"#9c179e\"],[0.4444444444444444,\"#bd3786\"],[0.5555555555555556,\"#d8576b\"],[0.6666666666666666,\"#ed7953\"],[0.7777777777777778,\"#fb9f3a\"],[0.8888888888888888,\"#fdca26\"],[1.0,\"#f0f921\"]]},\"colorway\":[\"#636efa\",\"#EF553B\",\"#00cc96\",\"#ab63fa\",\"#FFA15A\",\"#19d3f3\",\"#FF6692\",\"#B6E880\",\"#FF97FF\",\"#FECB52\"],\"font\":{\"color\":\"#2a3f5f\"},\"geo\":{\"bgcolor\":\"white\",\"lakecolor\":\"white\",\"landcolor\":\"white\",\"showlakes\":true,\"showland\":true,\"subunitcolor\":\"#C8D4E3\"},\"hoverlabel\":{\"align\":\"left\"},\"hovermode\":\"closest\",\"mapbox\":{\"style\":\"light\"},\"paper_bgcolor\":\"white\",\"plot_bgcolor\":\"white\",\"polar\":{\"angularaxis\":{\"gridcolor\":\"#EBF0F8\",\"linecolor\":\"#EBF0F8\",\"ticks\":\"\"},\"bgcolor\":\"white\",\"radialaxis\":{\"gridcolor\":\"#EBF0F8\",\"linecolor\":\"#EBF0F8\",\"ticks\":\"\"}},\"scene\":{\"xaxis\":{\"backgroundcolor\":\"white\",\"gridcolor\":\"#DFE8F3\",\"gridwidth\":2,\"linecolor\":\"#EBF0F8\",\"showbackground\":true,\"ticks\":\"\",\"zerolinecolor\":\"#EBF0F8\"},\"yaxis\":{\"backgroundcolor\":\"white\",\"gridcolor\":\"#DFE8F3\",\"gridwidth\":2,\"linecolor\":\"#EBF0F8\",\"showbackground\":true,\"ticks\":\"\",\"zerolinecolor\":\"#EBF0F8\"},\"zaxis\":{\"backgroundcolor\":\"white\",\"gridcolor\":\"#DFE8F3\",\"gridwidth\":2,\"linecolor\":\"#EBF0F8\",\"showbackground\":true,\"ticks\":\"\",\"zerolinecolor\":\"#EBF0F8\"}},\"shapedefaults\":{\"line\":{\"color\":\"#2a3f5f\"}},\"ternary\":{\"aaxis\":{\"gridcolor\":\"#DFE8F3\",\"linecolor\":\"#A2B1C6\",\"ticks\":\"\"},\"baxis\":{\"gridcolor\":\"#DFE8F3\",\"linecolor\":\"#A2B1C6\",\"ticks\":\"\"},\"bgcolor\":\"white\",\"caxis\":{\"gridcolor\":\"#DFE8F3\",\"linecolor\":\"#A2B1C6\",\"ticks\":\"\"}},\"title\":{\"x\":0.05},\"xaxis\":{\"automargin\":true,\"gridcolor\":\"#EBF0F8\",\"linecolor\":\"#EBF0F8\",\"ticks\":\"\",\"title\":{\"standoff\":15},\"zerolinecolor\":\"#EBF0F8\",\"zerolinewidth\":2},\"yaxis\":{\"automargin\":true,\"gridcolor\":\"#EBF0F8\",\"linecolor\":\"#EBF0F8\",\"ticks\":\"\",\"title\":{\"standoff\":15},\"zerolinecolor\":\"#EBF0F8\",\"zerolinewidth\":2}}},\"title\":{\"text\":\"Categorical Summary: overall\",\"x\":0.5,\"xanchor\":\"center\",\"y\":0.9,\"yanchor\":\"top\"},\"xaxis\":{\"anchor\":\"y\",\"domain\":[0.0,0.45]},\"yaxis\":{\"anchor\":\"x\",\"domain\":[0.0,1.0]}},                        {\"responsive\": true}                    ).then(function(){\n",
       "                            \n",
       "var gd = document.getElementById('c2787896-0bdd-4307-bb21-beb459aced69');\n",
       "var x = new MutationObserver(function (mutations, observer) {{\n",
       "        var display = window.getComputedStyle(gd).display;\n",
       "        if (!display || display === 'none') {{\n",
       "            console.log([gd, 'removed!']);\n",
       "            Plotly.purge(gd);\n",
       "            observer.disconnect();\n",
       "        }}\n",
       "}});\n",
       "\n",
       "// Listen for the removal of the full notebook cells\n",
       "var notebookContainer = gd.closest('#notebook-container');\n",
       "if (notebookContainer) {{\n",
       "    x.observe(notebookContainer, {childList: true});\n",
       "}}\n",
       "\n",
       "// Listen for the clearing of the current output cell\n",
       "var outputEl = gd.closest('.output');\n",
       "if (outputEl) {{\n",
       "    x.observe(outputEl, {childList: true});\n",
       "}}\n",
       "\n",
       "                        })                };                });            </script>        </div>"
      ]
     },
     "metadata": {},
     "output_type": "display_data"
    }
   ],
   "source": [
    "categorical_variable_summary(df,'overall')"
   ]
  },
  {
   "cell_type": "code",
   "execution_count": 30,
   "id": "ebb29115-4444-4423-9f82-5235cde63557",
   "metadata": {},
   "outputs": [
    {
     "data": {
      "text/plain": [
       "6946       update               so my lovely wife boug...\n",
       "2031       update               so my lovely wife boug...\n",
       "3449    i have tested dozens of sdhc and micro sdhc ca...\n",
       "8364    i have tested dozens of sdhc and micro sdhc ca...\n",
       "9127    note   please read the last update  scroll to ...\n",
       "Name: reviewText, dtype: object"
      ]
     },
     "execution_count": 30,
     "metadata": {},
     "output_type": "execute_result"
    }
   ],
   "source": [
    "# sample for cleaning\n",
    "df.reviewText.head()"
   ]
  },
  {
   "cell_type": "code",
   "execution_count": 31,
   "id": "1cc5ffca-7344-429f-b850-53117dae14c4",
   "metadata": {},
   "outputs": [
    {
     "data": {
      "text/plain": [
       "'   update               so my lovely wife bought me a samsung galaxy tab   for father s day and i ve been loving it ever since   just as other with samsung products  the galaxy tab   has the ability to add a microsd card to expand the memory on the device   since it s been over a year  i decided to do some more research to see if sandisk offered anything new   as of            their product lineup for microsd cards from worst to best  performance wise  are the as follows sandisksandisk ultrasandisk ultra plussandisk extremesandisk extreme plussandisk extreme pronow  the difference between all of these cards are simply the speed in which you can read write data to the card   yes  the published rating of most all these cards  except the sandisk regular  are class    uhs i but that s just a rating    actual real world performance does get better with each model  but with faster cards come more expensive prices   since amazon doesn t carry the ultra plus model of microsd card  i had to do direct comparisons between the sandisk ultra           extreme           and extreme plus          as mentioned in my earlier review  i purchased the sandisk ultra for my galaxy s    my question was  did i want to pay over     more for a card that is faster than the one i already owned   or i could pay almost double to get sandisk s  nd most fastest microsd card the ultra works perfectly fine for my style of usage  storing capturing pictures   hd video and movie playback  on my phone   so in the end  i ended up just buying another sandisk ultra   gb card   i use my cell phone  more  than i do my tablet and if the card is good enough for my phone  it s good enough for my tablet   i don t own a  k hd camera or anything like that  so i honestly didn t see a need to get one of the faster cards at this time i am now a proud owner of   sandisk ultra cards and have absolutely   issues with it in my samsung devices    original review              i haven t had to buy a microsd card in a long time  the last time i bought one was for my cell phone over   years ago  but since my cellular contract was up  i knew i would have to get a newer card in addition to my new phone  the samsung galaxy s   reason for this is because i knew my small   gb microsd card wasn t going to cut it doing research on the galaxy s   i wanted to get the best card possible that had decent capacity     gb or greater   this led me to find that the galaxy s  supports the microsdxc class    uhs i card  which is the fastest possible given that class  searching for that specifically on amazon gave me results of only   vendors  as of april  that makes these microsdxc class    uhs   cards  they are sandisk  the majority   samsung and lexar  nobody else makes these that are sold on amazon seeing how sandisk is a pretty good name out of the    i ve used them the most   i decided upon the sandisk because lexar was overpriced and the samsung one was overpriced  as well as not eligible for amazon prime  but the scary thing is that when you filter by the sandisk  you literally get dozens of options  all of them have different model numbers  different sizes  etc  then there s that confusion of what s the difference between sdhc   sdxc sdhc vs sdxc sdhc stand for  secure digital high capacity  and sdxc stands for  secure digital extended capacity   essentially these two cards are the same with the exception that sdhc only supports capcities up to   gb and is formated with the fat   file system  the sdxc cards are formatted with the exfat file system  if you use an sdxc card in a device  it must support that file system  otherwise it may not be recognizable and or you have to reformat the card to fat   fat   vs exfat the differences between the two file systems means that fat   has a maximum file size of  gb  limited by that file system  exfat on the otherhand  supports file sizes up to  tb  terabytes   the only thing you need to know here really is that it s possible your device doesn t support exfat  if that s the case  just reformat it to fat    remember formatting erases all data to clarify the model numbers  i i hopped over to the sandisk official webpage  what i found there is that they offer two  highspeed  options for sandisk cards  these are sandisk extreme pro and sandisk ultra  sandisk extreme pro is a line that supports read speeds up to   mb sec  however they are sdhc only  to make things worse  they are currently only available in   gb    gb capacities  since one of my requirements was to have a lot of storage  i ruled these out the remaining devices listed on amazon s search were the sandisk ultra line  but here  confusion sets in because sandisk separates these cards to two different devices  cameras   mobile devices  is there a real difference between the two or is this just a marketing stunt  unfortunately i m not sure but i do know the price difference between the two range from a couple cents to a few dollars  since i wasn t sure  i opted for the one specifically targeted for mobile devices  just in case there is some kind of compatibility issue   to find the exact model number  i would go to sandisk s webpage  sandisk com  and compare their existing product lineup  from there  you get exact model numbers and you can then search amazon for these model numbers  that is how i got mine  sdsdqua    g  as for speed tests  i haven t run any specific testing  but copying   gb worth of data from my pc to the card literally took just a few minutes one last note is that amazon attaches additional characters to the end  for example sdsdqua    g affp a vs sdsdqua    g u  a   the difference between the two is that the  affp a  means  amazon frustration free packaging   other than that  these are exactly the same   if you re wondering what i got  and want to use it in your galaxy s    i got the sdsdqua    g u  a and it works like charm '"
      ]
     },
     "execution_count": 31,
     "metadata": {},
     "output_type": "execute_result"
    }
   ],
   "source": [
    "example_review = df.reviewText[2031]\n",
    "example_review"
   ]
  },
  {
   "cell_type": "code",
   "execution_count": 32,
   "id": "0455eb75-22d5-41fd-8dd0-a4d140322230",
   "metadata": {},
   "outputs": [
    {
     "data": {
      "text/plain": [
       "'   update               so my lovely wife bought me a samsung galaxy tab   for father s day and i ve been loving it ever since   just as other with samsung products  the galaxy tab   has the ability to add a microsd card to expand the memory on the device   since it s been over a year  i decided to do some more research to see if sandisk offered anything new   as of            their product lineup for microsd cards from worst to best  performance wise  are the as follows sandisksandisk ultrasandisk ultra plussandisk extremesandisk extreme plussandisk extreme pronow  the difference between all of these cards are simply the speed in which you can read write data to the card   yes  the published rating of most all these cards  except the sandisk regular  are class    uhs i but that s just a rating    actual real world performance does get better with each model  but with faster cards come more expensive prices   since amazon doesn t carry the ultra plus model of microsd card  i had to do direct comparisons between the sandisk ultra           extreme           and extreme plus          as mentioned in my earlier review  i purchased the sandisk ultra for my galaxy s    my question was  did i want to pay over     more for a card that is faster than the one i already owned   or i could pay almost double to get sandisk s  nd most fastest microsd card the ultra works perfectly fine for my style of usage  storing capturing pictures   hd video and movie playback  on my phone   so in the end  i ended up just buying another sandisk ultra   gb card   i use my cell phone  more  than i do my tablet and if the card is good enough for my phone  it s good enough for my tablet   i don t own a  k hd camera or anything like that  so i honestly didn t see a need to get one of the faster cards at this time i am now a proud owner of   sandisk ultra cards and have absolutely   issues with it in my samsung devices    original review              i haven t had to buy a microsd card in a long time  the last time i bought one was for my cell phone over   years ago  but since my cellular contract was up  i knew i would have to get a newer card in addition to my new phone  the samsung galaxy s   reason for this is because i knew my small   gb microsd card wasn t going to cut it doing research on the galaxy s   i wanted to get the best card possible that had decent capacity     gb or greater   this led me to find that the galaxy s  supports the microsdxc class    uhs i card  which is the fastest possible given that class  searching for that specifically on amazon gave me results of only   vendors  as of april  that makes these microsdxc class    uhs   cards  they are sandisk  the majority   samsung and lexar  nobody else makes these that are sold on amazon seeing how sandisk is a pretty good name out of the    i ve used them the most   i decided upon the sandisk because lexar was overpriced and the samsung one was overpriced  as well as not eligible for amazon prime  but the scary thing is that when you filter by the sandisk  you literally get dozens of options  all of them have different model numbers  different sizes  etc  then there s that confusion of what s the difference between sdhc   sdxc sdhc vs sdxc sdhc stand for  secure digital high capacity  and sdxc stands for  secure digital extended capacity   essentially these two cards are the same with the exception that sdhc only supports capcities up to   gb and is formated with the fat   file system  the sdxc cards are formatted with the exfat file system  if you use an sdxc card in a device  it must support that file system  otherwise it may not be recognizable and or you have to reformat the card to fat   fat   vs exfat the differences between the two file systems means that fat   has a maximum file size of  gb  limited by that file system  exfat on the otherhand  supports file sizes up to  tb  terabytes   the only thing you need to know here really is that it s possible your device doesn t support exfat  if that s the case  just reformat it to fat    remember formatting erases all data to clarify the model numbers  i i hopped over to the sandisk official webpage  what i found there is that they offer two  highspeed  options for sandisk cards  these are sandisk extreme pro and sandisk ultra  sandisk extreme pro is a line that supports read speeds up to   mb sec  however they are sdhc only  to make things worse  they are currently only available in   gb    gb capacities  since one of my requirements was to have a lot of storage  i ruled these out the remaining devices listed on amazon s search were the sandisk ultra line  but here  confusion sets in because sandisk separates these cards to two different devices  cameras   mobile devices  is there a real difference between the two or is this just a marketing stunt  unfortunately i m not sure but i do know the price difference between the two range from a couple cents to a few dollars  since i wasn t sure  i opted for the one specifically targeted for mobile devices  just in case there is some kind of compatibility issue   to find the exact model number  i would go to sandisk s webpage  sandisk com  and compare their existing product lineup  from there  you get exact model numbers and you can then search amazon for these model numbers  that is how i got mine  sdsdqua    g  as for speed tests  i haven t run any specific testing  but copying   gb worth of data from my pc to the card literally took just a few minutes one last note is that amazon attaches additional characters to the end  for example sdsdqua    g affp a vs sdsdqua    g u  a   the difference between the two is that the  affp a  means  amazon frustration free packaging   other than that  these are exactly the same   if you re wondering what i got  and want to use it in your galaxy s    i got the sdsdqua    g u  a and it works like charm '"
      ]
     },
     "execution_count": 32,
     "metadata": {},
     "output_type": "execute_result"
    }
   ],
   "source": [
    "# we clean it from punctuation and numbers - using regex. {Regular expression}\n",
    "example_review = re.sub(\"[^a-zA-Z]\",' ',example_review)\n",
    "example_review"
   ]
  },
  {
   "cell_type": "code",
   "execution_count": 33,
   "id": "3303c933-3c9d-4d7f-9ef8-6475e821a533",
   "metadata": {},
   "outputs": [],
   "source": [
    "example_review = example_review.lower().split()"
   ]
  },
  {
   "cell_type": "code",
   "execution_count": 34,
   "id": "fbd32d9b-47c1-4c0d-9028-9e942b500f46",
   "metadata": {},
   "outputs": [
    {
     "data": {
      "text/plain": [
       "['update',\n",
       " 'so',\n",
       " 'my',\n",
       " 'lovely',\n",
       " 'wife',\n",
       " 'bought',\n",
       " 'me',\n",
       " 'a',\n",
       " 'samsung',\n",
       " 'galaxy',\n",
       " 'tab',\n",
       " 'for',\n",
       " 'father',\n",
       " 's',\n",
       " 'day',\n",
       " 'and',\n",
       " 'i',\n",
       " 've',\n",
       " 'been',\n",
       " 'loving',\n",
       " 'it',\n",
       " 'ever',\n",
       " 'since',\n",
       " 'just',\n",
       " 'as',\n",
       " 'other',\n",
       " 'with',\n",
       " 'samsung',\n",
       " 'products',\n",
       " 'the',\n",
       " 'galaxy',\n",
       " 'tab',\n",
       " 'has',\n",
       " 'the',\n",
       " 'ability',\n",
       " 'to',\n",
       " 'add',\n",
       " 'a',\n",
       " 'microsd',\n",
       " 'card',\n",
       " 'to',\n",
       " 'expand',\n",
       " 'the',\n",
       " 'memory',\n",
       " 'on',\n",
       " 'the',\n",
       " 'device',\n",
       " 'since',\n",
       " 'it',\n",
       " 's',\n",
       " 'been',\n",
       " 'over',\n",
       " 'a',\n",
       " 'year',\n",
       " 'i',\n",
       " 'decided',\n",
       " 'to',\n",
       " 'do',\n",
       " 'some',\n",
       " 'more',\n",
       " 'research',\n",
       " 'to',\n",
       " 'see',\n",
       " 'if',\n",
       " 'sandisk',\n",
       " 'offered',\n",
       " 'anything',\n",
       " 'new',\n",
       " 'as',\n",
       " 'of',\n",
       " 'their',\n",
       " 'product',\n",
       " 'lineup',\n",
       " 'for',\n",
       " 'microsd',\n",
       " 'cards',\n",
       " 'from',\n",
       " 'worst',\n",
       " 'to',\n",
       " 'best',\n",
       " 'performance',\n",
       " 'wise',\n",
       " 'are',\n",
       " 'the',\n",
       " 'as',\n",
       " 'follows',\n",
       " 'sandisksandisk',\n",
       " 'ultrasandisk',\n",
       " 'ultra',\n",
       " 'plussandisk',\n",
       " 'extremesandisk',\n",
       " 'extreme',\n",
       " 'plussandisk',\n",
       " 'extreme',\n",
       " 'pronow',\n",
       " 'the',\n",
       " 'difference',\n",
       " 'between',\n",
       " 'all',\n",
       " 'of',\n",
       " 'these',\n",
       " 'cards',\n",
       " 'are',\n",
       " 'simply',\n",
       " 'the',\n",
       " 'speed',\n",
       " 'in',\n",
       " 'which',\n",
       " 'you',\n",
       " 'can',\n",
       " 'read',\n",
       " 'write',\n",
       " 'data',\n",
       " 'to',\n",
       " 'the',\n",
       " 'card',\n",
       " 'yes',\n",
       " 'the',\n",
       " 'published',\n",
       " 'rating',\n",
       " 'of',\n",
       " 'most',\n",
       " 'all',\n",
       " 'these',\n",
       " 'cards',\n",
       " 'except',\n",
       " 'the',\n",
       " 'sandisk',\n",
       " 'regular',\n",
       " 'are',\n",
       " 'class',\n",
       " 'uhs',\n",
       " 'i',\n",
       " 'but',\n",
       " 'that',\n",
       " 's',\n",
       " 'just',\n",
       " 'a',\n",
       " 'rating',\n",
       " 'actual',\n",
       " 'real',\n",
       " 'world',\n",
       " 'performance',\n",
       " 'does',\n",
       " 'get',\n",
       " 'better',\n",
       " 'with',\n",
       " 'each',\n",
       " 'model',\n",
       " 'but',\n",
       " 'with',\n",
       " 'faster',\n",
       " 'cards',\n",
       " 'come',\n",
       " 'more',\n",
       " 'expensive',\n",
       " 'prices',\n",
       " 'since',\n",
       " 'amazon',\n",
       " 'doesn',\n",
       " 't',\n",
       " 'carry',\n",
       " 'the',\n",
       " 'ultra',\n",
       " 'plus',\n",
       " 'model',\n",
       " 'of',\n",
       " 'microsd',\n",
       " 'card',\n",
       " 'i',\n",
       " 'had',\n",
       " 'to',\n",
       " 'do',\n",
       " 'direct',\n",
       " 'comparisons',\n",
       " 'between',\n",
       " 'the',\n",
       " 'sandisk',\n",
       " 'ultra',\n",
       " 'extreme',\n",
       " 'and',\n",
       " 'extreme',\n",
       " 'plus',\n",
       " 'as',\n",
       " 'mentioned',\n",
       " 'in',\n",
       " 'my',\n",
       " 'earlier',\n",
       " 'review',\n",
       " 'i',\n",
       " 'purchased',\n",
       " 'the',\n",
       " 'sandisk',\n",
       " 'ultra',\n",
       " 'for',\n",
       " 'my',\n",
       " 'galaxy',\n",
       " 's',\n",
       " 'my',\n",
       " 'question',\n",
       " 'was',\n",
       " 'did',\n",
       " 'i',\n",
       " 'want',\n",
       " 'to',\n",
       " 'pay',\n",
       " 'over',\n",
       " 'more',\n",
       " 'for',\n",
       " 'a',\n",
       " 'card',\n",
       " 'that',\n",
       " 'is',\n",
       " 'faster',\n",
       " 'than',\n",
       " 'the',\n",
       " 'one',\n",
       " 'i',\n",
       " 'already',\n",
       " 'owned',\n",
       " 'or',\n",
       " 'i',\n",
       " 'could',\n",
       " 'pay',\n",
       " 'almost',\n",
       " 'double',\n",
       " 'to',\n",
       " 'get',\n",
       " 'sandisk',\n",
       " 's',\n",
       " 'nd',\n",
       " 'most',\n",
       " 'fastest',\n",
       " 'microsd',\n",
       " 'card',\n",
       " 'the',\n",
       " 'ultra',\n",
       " 'works',\n",
       " 'perfectly',\n",
       " 'fine',\n",
       " 'for',\n",
       " 'my',\n",
       " 'style',\n",
       " 'of',\n",
       " 'usage',\n",
       " 'storing',\n",
       " 'capturing',\n",
       " 'pictures',\n",
       " 'hd',\n",
       " 'video',\n",
       " 'and',\n",
       " 'movie',\n",
       " 'playback',\n",
       " 'on',\n",
       " 'my',\n",
       " 'phone',\n",
       " 'so',\n",
       " 'in',\n",
       " 'the',\n",
       " 'end',\n",
       " 'i',\n",
       " 'ended',\n",
       " 'up',\n",
       " 'just',\n",
       " 'buying',\n",
       " 'another',\n",
       " 'sandisk',\n",
       " 'ultra',\n",
       " 'gb',\n",
       " 'card',\n",
       " 'i',\n",
       " 'use',\n",
       " 'my',\n",
       " 'cell',\n",
       " 'phone',\n",
       " 'more',\n",
       " 'than',\n",
       " 'i',\n",
       " 'do',\n",
       " 'my',\n",
       " 'tablet',\n",
       " 'and',\n",
       " 'if',\n",
       " 'the',\n",
       " 'card',\n",
       " 'is',\n",
       " 'good',\n",
       " 'enough',\n",
       " 'for',\n",
       " 'my',\n",
       " 'phone',\n",
       " 'it',\n",
       " 's',\n",
       " 'good',\n",
       " 'enough',\n",
       " 'for',\n",
       " 'my',\n",
       " 'tablet',\n",
       " 'i',\n",
       " 'don',\n",
       " 't',\n",
       " 'own',\n",
       " 'a',\n",
       " 'k',\n",
       " 'hd',\n",
       " 'camera',\n",
       " 'or',\n",
       " 'anything',\n",
       " 'like',\n",
       " 'that',\n",
       " 'so',\n",
       " 'i',\n",
       " 'honestly',\n",
       " 'didn',\n",
       " 't',\n",
       " 'see',\n",
       " 'a',\n",
       " 'need',\n",
       " 'to',\n",
       " 'get',\n",
       " 'one',\n",
       " 'of',\n",
       " 'the',\n",
       " 'faster',\n",
       " 'cards',\n",
       " 'at',\n",
       " 'this',\n",
       " 'time',\n",
       " 'i',\n",
       " 'am',\n",
       " 'now',\n",
       " 'a',\n",
       " 'proud',\n",
       " 'owner',\n",
       " 'of',\n",
       " 'sandisk',\n",
       " 'ultra',\n",
       " 'cards',\n",
       " 'and',\n",
       " 'have',\n",
       " 'absolutely',\n",
       " 'issues',\n",
       " 'with',\n",
       " 'it',\n",
       " 'in',\n",
       " 'my',\n",
       " 'samsung',\n",
       " 'devices',\n",
       " 'original',\n",
       " 'review',\n",
       " 'i',\n",
       " 'haven',\n",
       " 't',\n",
       " 'had',\n",
       " 'to',\n",
       " 'buy',\n",
       " 'a',\n",
       " 'microsd',\n",
       " 'card',\n",
       " 'in',\n",
       " 'a',\n",
       " 'long',\n",
       " 'time',\n",
       " 'the',\n",
       " 'last',\n",
       " 'time',\n",
       " 'i',\n",
       " 'bought',\n",
       " 'one',\n",
       " 'was',\n",
       " 'for',\n",
       " 'my',\n",
       " 'cell',\n",
       " 'phone',\n",
       " 'over',\n",
       " 'years',\n",
       " 'ago',\n",
       " 'but',\n",
       " 'since',\n",
       " 'my',\n",
       " 'cellular',\n",
       " 'contract',\n",
       " 'was',\n",
       " 'up',\n",
       " 'i',\n",
       " 'knew',\n",
       " 'i',\n",
       " 'would',\n",
       " 'have',\n",
       " 'to',\n",
       " 'get',\n",
       " 'a',\n",
       " 'newer',\n",
       " 'card',\n",
       " 'in',\n",
       " 'addition',\n",
       " 'to',\n",
       " 'my',\n",
       " 'new',\n",
       " 'phone',\n",
       " 'the',\n",
       " 'samsung',\n",
       " 'galaxy',\n",
       " 's',\n",
       " 'reason',\n",
       " 'for',\n",
       " 'this',\n",
       " 'is',\n",
       " 'because',\n",
       " 'i',\n",
       " 'knew',\n",
       " 'my',\n",
       " 'small',\n",
       " 'gb',\n",
       " 'microsd',\n",
       " 'card',\n",
       " 'wasn',\n",
       " 't',\n",
       " 'going',\n",
       " 'to',\n",
       " 'cut',\n",
       " 'it',\n",
       " 'doing',\n",
       " 'research',\n",
       " 'on',\n",
       " 'the',\n",
       " 'galaxy',\n",
       " 's',\n",
       " 'i',\n",
       " 'wanted',\n",
       " 'to',\n",
       " 'get',\n",
       " 'the',\n",
       " 'best',\n",
       " 'card',\n",
       " 'possible',\n",
       " 'that',\n",
       " 'had',\n",
       " 'decent',\n",
       " 'capacity',\n",
       " 'gb',\n",
       " 'or',\n",
       " 'greater',\n",
       " 'this',\n",
       " 'led',\n",
       " 'me',\n",
       " 'to',\n",
       " 'find',\n",
       " 'that',\n",
       " 'the',\n",
       " 'galaxy',\n",
       " 's',\n",
       " 'supports',\n",
       " 'the',\n",
       " 'microsdxc',\n",
       " 'class',\n",
       " 'uhs',\n",
       " 'i',\n",
       " 'card',\n",
       " 'which',\n",
       " 'is',\n",
       " 'the',\n",
       " 'fastest',\n",
       " 'possible',\n",
       " 'given',\n",
       " 'that',\n",
       " 'class',\n",
       " 'searching',\n",
       " 'for',\n",
       " 'that',\n",
       " 'specifically',\n",
       " 'on',\n",
       " 'amazon',\n",
       " 'gave',\n",
       " 'me',\n",
       " 'results',\n",
       " 'of',\n",
       " 'only',\n",
       " 'vendors',\n",
       " 'as',\n",
       " 'of',\n",
       " 'april',\n",
       " 'that',\n",
       " 'makes',\n",
       " 'these',\n",
       " 'microsdxc',\n",
       " 'class',\n",
       " 'uhs',\n",
       " 'cards',\n",
       " 'they',\n",
       " 'are',\n",
       " 'sandisk',\n",
       " 'the',\n",
       " 'majority',\n",
       " 'samsung',\n",
       " 'and',\n",
       " 'lexar',\n",
       " 'nobody',\n",
       " 'else',\n",
       " 'makes',\n",
       " 'these',\n",
       " 'that',\n",
       " 'are',\n",
       " 'sold',\n",
       " 'on',\n",
       " 'amazon',\n",
       " 'seeing',\n",
       " 'how',\n",
       " 'sandisk',\n",
       " 'is',\n",
       " 'a',\n",
       " 'pretty',\n",
       " 'good',\n",
       " 'name',\n",
       " 'out',\n",
       " 'of',\n",
       " 'the',\n",
       " 'i',\n",
       " 've',\n",
       " 'used',\n",
       " 'them',\n",
       " 'the',\n",
       " 'most',\n",
       " 'i',\n",
       " 'decided',\n",
       " 'upon',\n",
       " 'the',\n",
       " 'sandisk',\n",
       " 'because',\n",
       " 'lexar',\n",
       " 'was',\n",
       " 'overpriced',\n",
       " 'and',\n",
       " 'the',\n",
       " 'samsung',\n",
       " 'one',\n",
       " 'was',\n",
       " 'overpriced',\n",
       " 'as',\n",
       " 'well',\n",
       " 'as',\n",
       " 'not',\n",
       " 'eligible',\n",
       " 'for',\n",
       " 'amazon',\n",
       " 'prime',\n",
       " 'but',\n",
       " 'the',\n",
       " 'scary',\n",
       " 'thing',\n",
       " 'is',\n",
       " 'that',\n",
       " 'when',\n",
       " 'you',\n",
       " 'filter',\n",
       " 'by',\n",
       " 'the',\n",
       " 'sandisk',\n",
       " 'you',\n",
       " 'literally',\n",
       " 'get',\n",
       " 'dozens',\n",
       " 'of',\n",
       " 'options',\n",
       " 'all',\n",
       " 'of',\n",
       " 'them',\n",
       " 'have',\n",
       " 'different',\n",
       " 'model',\n",
       " 'numbers',\n",
       " 'different',\n",
       " 'sizes',\n",
       " 'etc',\n",
       " 'then',\n",
       " 'there',\n",
       " 's',\n",
       " 'that',\n",
       " 'confusion',\n",
       " 'of',\n",
       " 'what',\n",
       " 's',\n",
       " 'the',\n",
       " 'difference',\n",
       " 'between',\n",
       " 'sdhc',\n",
       " 'sdxc',\n",
       " 'sdhc',\n",
       " 'vs',\n",
       " 'sdxc',\n",
       " 'sdhc',\n",
       " 'stand',\n",
       " 'for',\n",
       " 'secure',\n",
       " 'digital',\n",
       " 'high',\n",
       " 'capacity',\n",
       " 'and',\n",
       " 'sdxc',\n",
       " 'stands',\n",
       " 'for',\n",
       " 'secure',\n",
       " 'digital',\n",
       " 'extended',\n",
       " 'capacity',\n",
       " 'essentially',\n",
       " 'these',\n",
       " 'two',\n",
       " 'cards',\n",
       " 'are',\n",
       " 'the',\n",
       " 'same',\n",
       " 'with',\n",
       " 'the',\n",
       " 'exception',\n",
       " 'that',\n",
       " 'sdhc',\n",
       " 'only',\n",
       " 'supports',\n",
       " 'capcities',\n",
       " 'up',\n",
       " 'to',\n",
       " 'gb',\n",
       " 'and',\n",
       " 'is',\n",
       " 'formated',\n",
       " 'with',\n",
       " 'the',\n",
       " 'fat',\n",
       " 'file',\n",
       " 'system',\n",
       " 'the',\n",
       " 'sdxc',\n",
       " 'cards',\n",
       " 'are',\n",
       " 'formatted',\n",
       " 'with',\n",
       " 'the',\n",
       " 'exfat',\n",
       " 'file',\n",
       " 'system',\n",
       " 'if',\n",
       " 'you',\n",
       " 'use',\n",
       " 'an',\n",
       " 'sdxc',\n",
       " 'card',\n",
       " 'in',\n",
       " 'a',\n",
       " 'device',\n",
       " 'it',\n",
       " 'must',\n",
       " 'support',\n",
       " 'that',\n",
       " 'file',\n",
       " 'system',\n",
       " 'otherwise',\n",
       " 'it',\n",
       " 'may',\n",
       " 'not',\n",
       " 'be',\n",
       " 'recognizable',\n",
       " 'and',\n",
       " 'or',\n",
       " 'you',\n",
       " 'have',\n",
       " 'to',\n",
       " 'reformat',\n",
       " 'the',\n",
       " 'card',\n",
       " 'to',\n",
       " 'fat',\n",
       " 'fat',\n",
       " 'vs',\n",
       " 'exfat',\n",
       " 'the',\n",
       " 'differences',\n",
       " 'between',\n",
       " 'the',\n",
       " 'two',\n",
       " 'file',\n",
       " 'systems',\n",
       " 'means',\n",
       " 'that',\n",
       " 'fat',\n",
       " 'has',\n",
       " 'a',\n",
       " 'maximum',\n",
       " 'file',\n",
       " 'size',\n",
       " 'of',\n",
       " 'gb',\n",
       " 'limited',\n",
       " 'by',\n",
       " 'that',\n",
       " 'file',\n",
       " 'system',\n",
       " 'exfat',\n",
       " 'on',\n",
       " 'the',\n",
       " 'otherhand',\n",
       " 'supports',\n",
       " 'file',\n",
       " 'sizes',\n",
       " 'up',\n",
       " 'to',\n",
       " 'tb',\n",
       " 'terabytes',\n",
       " 'the',\n",
       " 'only',\n",
       " 'thing',\n",
       " 'you',\n",
       " 'need',\n",
       " 'to',\n",
       " 'know',\n",
       " 'here',\n",
       " 'really',\n",
       " 'is',\n",
       " 'that',\n",
       " 'it',\n",
       " 's',\n",
       " 'possible',\n",
       " 'your',\n",
       " 'device',\n",
       " 'doesn',\n",
       " 't',\n",
       " 'support',\n",
       " 'exfat',\n",
       " 'if',\n",
       " 'that',\n",
       " 's',\n",
       " 'the',\n",
       " 'case',\n",
       " 'just',\n",
       " 'reformat',\n",
       " 'it',\n",
       " 'to',\n",
       " 'fat',\n",
       " 'remember',\n",
       " 'formatting',\n",
       " 'erases',\n",
       " 'all',\n",
       " 'data',\n",
       " 'to',\n",
       " 'clarify',\n",
       " 'the',\n",
       " 'model',\n",
       " 'numbers',\n",
       " 'i',\n",
       " 'i',\n",
       " 'hopped',\n",
       " 'over',\n",
       " 'to',\n",
       " 'the',\n",
       " 'sandisk',\n",
       " 'official',\n",
       " 'webpage',\n",
       " 'what',\n",
       " 'i',\n",
       " 'found',\n",
       " 'there',\n",
       " 'is',\n",
       " 'that',\n",
       " 'they',\n",
       " 'offer',\n",
       " 'two',\n",
       " 'highspeed',\n",
       " 'options',\n",
       " 'for',\n",
       " 'sandisk',\n",
       " 'cards',\n",
       " 'these',\n",
       " 'are',\n",
       " 'sandisk',\n",
       " 'extreme',\n",
       " 'pro',\n",
       " 'and',\n",
       " 'sandisk',\n",
       " 'ultra',\n",
       " 'sandisk',\n",
       " 'extreme',\n",
       " 'pro',\n",
       " 'is',\n",
       " 'a',\n",
       " 'line',\n",
       " 'that',\n",
       " 'supports',\n",
       " 'read',\n",
       " 'speeds',\n",
       " 'up',\n",
       " 'to',\n",
       " 'mb',\n",
       " 'sec',\n",
       " 'however',\n",
       " 'they',\n",
       " 'are',\n",
       " 'sdhc',\n",
       " 'only',\n",
       " 'to',\n",
       " 'make',\n",
       " 'things',\n",
       " 'worse',\n",
       " 'they',\n",
       " 'are',\n",
       " 'currently',\n",
       " 'only',\n",
       " 'available',\n",
       " 'in',\n",
       " 'gb',\n",
       " 'gb',\n",
       " 'capacities',\n",
       " 'since',\n",
       " 'one',\n",
       " 'of',\n",
       " 'my',\n",
       " 'requirements',\n",
       " 'was',\n",
       " 'to',\n",
       " 'have',\n",
       " 'a',\n",
       " 'lot',\n",
       " 'of',\n",
       " 'storage',\n",
       " 'i',\n",
       " 'ruled',\n",
       " 'these',\n",
       " 'out',\n",
       " 'the',\n",
       " 'remaining',\n",
       " 'devices',\n",
       " 'listed',\n",
       " 'on',\n",
       " 'amazon',\n",
       " 's',\n",
       " 'search',\n",
       " 'were',\n",
       " 'the',\n",
       " 'sandisk',\n",
       " 'ultra',\n",
       " 'line',\n",
       " 'but',\n",
       " 'here',\n",
       " 'confusion',\n",
       " 'sets',\n",
       " 'in',\n",
       " 'because',\n",
       " 'sandisk',\n",
       " 'separates',\n",
       " 'these',\n",
       " 'cards',\n",
       " 'to',\n",
       " 'two',\n",
       " 'different',\n",
       " 'devices',\n",
       " 'cameras',\n",
       " 'mobile',\n",
       " 'devices',\n",
       " 'is',\n",
       " 'there',\n",
       " 'a',\n",
       " 'real',\n",
       " 'difference',\n",
       " 'between',\n",
       " 'the',\n",
       " 'two',\n",
       " 'or',\n",
       " 'is',\n",
       " 'this',\n",
       " 'just',\n",
       " 'a',\n",
       " 'marketing',\n",
       " 'stunt',\n",
       " 'unfortunately',\n",
       " 'i',\n",
       " 'm',\n",
       " 'not',\n",
       " 'sure',\n",
       " 'but',\n",
       " 'i',\n",
       " 'do',\n",
       " 'know',\n",
       " 'the',\n",
       " 'price',\n",
       " 'difference',\n",
       " 'between',\n",
       " 'the',\n",
       " 'two',\n",
       " 'range',\n",
       " 'from',\n",
       " 'a',\n",
       " 'couple',\n",
       " 'cents',\n",
       " 'to',\n",
       " 'a',\n",
       " 'few',\n",
       " 'dollars',\n",
       " 'since',\n",
       " 'i',\n",
       " 'wasn',\n",
       " 't',\n",
       " 'sure',\n",
       " 'i',\n",
       " 'opted',\n",
       " 'for',\n",
       " 'the',\n",
       " 'one',\n",
       " 'specifically',\n",
       " 'targeted',\n",
       " 'for',\n",
       " 'mobile',\n",
       " 'devices',\n",
       " 'just',\n",
       " 'in',\n",
       " 'case',\n",
       " 'there',\n",
       " 'is',\n",
       " 'some',\n",
       " 'kind',\n",
       " 'of',\n",
       " 'compatibility',\n",
       " 'issue',\n",
       " 'to',\n",
       " 'find',\n",
       " 'the',\n",
       " 'exact',\n",
       " 'model',\n",
       " 'number',\n",
       " 'i',\n",
       " 'would',\n",
       " 'go',\n",
       " 'to',\n",
       " 'sandisk',\n",
       " 's',\n",
       " 'webpage',\n",
       " 'sandisk',\n",
       " 'com',\n",
       " 'and',\n",
       " 'compare',\n",
       " 'their',\n",
       " 'existing',\n",
       " 'product',\n",
       " 'lineup',\n",
       " 'from',\n",
       " 'there',\n",
       " 'you',\n",
       " 'get',\n",
       " 'exact',\n",
       " 'model',\n",
       " 'numbers',\n",
       " 'and',\n",
       " 'you',\n",
       " 'can',\n",
       " 'then',\n",
       " 'search',\n",
       " 'amazon',\n",
       " 'for',\n",
       " 'these',\n",
       " 'model',\n",
       " 'numbers',\n",
       " 'that',\n",
       " 'is',\n",
       " 'how',\n",
       " 'i',\n",
       " 'got',\n",
       " 'mine',\n",
       " 'sdsdqua',\n",
       " 'g',\n",
       " 'as',\n",
       " 'for',\n",
       " 'speed',\n",
       " 'tests',\n",
       " 'i',\n",
       " 'haven',\n",
       " 't',\n",
       " 'run',\n",
       " 'any',\n",
       " 'specific',\n",
       " 'testing',\n",
       " 'but',\n",
       " 'copying',\n",
       " 'gb',\n",
       " 'worth',\n",
       " 'of',\n",
       " 'data',\n",
       " 'from',\n",
       " 'my',\n",
       " 'pc',\n",
       " 'to',\n",
       " 'the',\n",
       " 'card',\n",
       " 'literally',\n",
       " 'took',\n",
       " 'just',\n",
       " 'a',\n",
       " 'few',\n",
       " 'minutes',\n",
       " 'one',\n",
       " 'last',\n",
       " 'note',\n",
       " 'is',\n",
       " ...]"
      ]
     },
     "execution_count": 34,
     "metadata": {},
     "output_type": "execute_result"
    }
   ],
   "source": [
    "example_review"
   ]
  },
  {
   "cell_type": "code",
   "execution_count": 35,
   "id": "38ca1d2c-9cc3-4bcd-9ed2-66ceaa064395",
   "metadata": {},
   "outputs": [
    {
     "data": {
      "text/html": [
       "<div>\n",
       "<style scoped>\n",
       "    .dataframe tbody tr th:only-of-type {\n",
       "        vertical-align: middle;\n",
       "    }\n",
       "\n",
       "    .dataframe tbody tr th {\n",
       "        vertical-align: top;\n",
       "    }\n",
       "\n",
       "    .dataframe thead th {\n",
       "        text-align: right;\n",
       "    }\n",
       "</style>\n",
       "<table border=\"1\" class=\"dataframe\">\n",
       "  <thead>\n",
       "    <tr style=\"text-align: right;\">\n",
       "      <th></th>\n",
       "      <th>reviewerName</th>\n",
       "      <th>overall</th>\n",
       "      <th>reviewText</th>\n",
       "      <th>reviewTime</th>\n",
       "      <th>day_diff</th>\n",
       "      <th>helpful_yes</th>\n",
       "      <th>helpful_no</th>\n",
       "      <th>total_vote</th>\n",
       "      <th>score_pos_neg_diff</th>\n",
       "      <th>score_average_rating</th>\n",
       "      <th>wilson_lower_bound</th>\n",
       "      <th>polarity</th>\n",
       "      <th>subjectivity</th>\n",
       "      <th>sentiment</th>\n",
       "    </tr>\n",
       "  </thead>\n",
       "  <tbody>\n",
       "    <tr>\n",
       "      <th>6946</th>\n",
       "      <td>Hyoun Kim \"Faluzure\"</td>\n",
       "      <td>5.0</td>\n",
       "      <td>update               so my lovely wife boug...</td>\n",
       "      <td>05-01-2013</td>\n",
       "      <td>702</td>\n",
       "      <td>1952</td>\n",
       "      <td>68</td>\n",
       "      <td>2020</td>\n",
       "      <td>1884</td>\n",
       "      <td>0.966337</td>\n",
       "      <td>0.957544</td>\n",
       "      <td>0.163859</td>\n",
       "      <td>0.562259</td>\n",
       "      <td>Positive</td>\n",
       "    </tr>\n",
       "    <tr>\n",
       "      <th>2031</th>\n",
       "      <td>Hyoun Kim \"Faluzure\"</td>\n",
       "      <td>5.0</td>\n",
       "      <td>update               so my lovely wife boug...</td>\n",
       "      <td>2013-01-05</td>\n",
       "      <td>702</td>\n",
       "      <td>1952</td>\n",
       "      <td>68</td>\n",
       "      <td>2020</td>\n",
       "      <td>1884</td>\n",
       "      <td>0.966337</td>\n",
       "      <td>0.957544</td>\n",
       "      <td>0.163859</td>\n",
       "      <td>0.562259</td>\n",
       "      <td>Positive</td>\n",
       "    </tr>\n",
       "    <tr>\n",
       "      <th>3449</th>\n",
       "      <td>NLee the Engineer</td>\n",
       "      <td>5.0</td>\n",
       "      <td>i have tested dozens of sdhc and micro sdhc ca...</td>\n",
       "      <td>2012-09-26</td>\n",
       "      <td>803</td>\n",
       "      <td>1428</td>\n",
       "      <td>77</td>\n",
       "      <td>1505</td>\n",
       "      <td>1351</td>\n",
       "      <td>0.948837</td>\n",
       "      <td>0.936519</td>\n",
       "      <td>0.103870</td>\n",
       "      <td>0.516435</td>\n",
       "      <td>Positive</td>\n",
       "    </tr>\n",
       "    <tr>\n",
       "      <th>8364</th>\n",
       "      <td>NLee the Engineer</td>\n",
       "      <td>5.0</td>\n",
       "      <td>i have tested dozens of sdhc and micro sdhc ca...</td>\n",
       "      <td>26-09-2012</td>\n",
       "      <td>803</td>\n",
       "      <td>1428</td>\n",
       "      <td>77</td>\n",
       "      <td>1505</td>\n",
       "      <td>1351</td>\n",
       "      <td>0.948837</td>\n",
       "      <td>0.936519</td>\n",
       "      <td>0.103870</td>\n",
       "      <td>0.516435</td>\n",
       "      <td>Positive</td>\n",
       "    </tr>\n",
       "    <tr>\n",
       "      <th>9127</th>\n",
       "      <td>SkincareCEO</td>\n",
       "      <td>1.0</td>\n",
       "      <td>note   please read the last update  scroll to ...</td>\n",
       "      <td>08-05-2013</td>\n",
       "      <td>579</td>\n",
       "      <td>1568</td>\n",
       "      <td>126</td>\n",
       "      <td>1694</td>\n",
       "      <td>1442</td>\n",
       "      <td>0.925620</td>\n",
       "      <td>0.912139</td>\n",
       "      <td>0.212251</td>\n",
       "      <td>0.505394</td>\n",
       "      <td>Positive</td>\n",
       "    </tr>\n",
       "    <tr>\n",
       "      <th>4212</th>\n",
       "      <td>SkincareCEO</td>\n",
       "      <td>1.0</td>\n",
       "      <td>note   please read the last update  scroll to ...</td>\n",
       "      <td>2013-05-08</td>\n",
       "      <td>579</td>\n",
       "      <td>1568</td>\n",
       "      <td>126</td>\n",
       "      <td>1694</td>\n",
       "      <td>1442</td>\n",
       "      <td>0.925620</td>\n",
       "      <td>0.912139</td>\n",
       "      <td>0.212251</td>\n",
       "      <td>0.505394</td>\n",
       "      <td>Positive</td>\n",
       "    </tr>\n",
       "    <tr>\n",
       "      <th>317</th>\n",
       "      <td>Amazon Customer \"Kelly\"</td>\n",
       "      <td>1.0</td>\n",
       "      <td>if your card gets hot enough to be painful  it...</td>\n",
       "      <td>2012-02-09</td>\n",
       "      <td>1033</td>\n",
       "      <td>422</td>\n",
       "      <td>73</td>\n",
       "      <td>495</td>\n",
       "      <td>349</td>\n",
       "      <td>0.852525</td>\n",
       "      <td>0.818577</td>\n",
       "      <td>0.143519</td>\n",
       "      <td>0.494207</td>\n",
       "      <td>Positive</td>\n",
       "    </tr>\n",
       "    <tr>\n",
       "      <th>5232</th>\n",
       "      <td>Amazon Customer \"Kelly\"</td>\n",
       "      <td>1.0</td>\n",
       "      <td>if your card gets hot enough to be painful  it...</td>\n",
       "      <td>09-02-2012</td>\n",
       "      <td>1033</td>\n",
       "      <td>422</td>\n",
       "      <td>73</td>\n",
       "      <td>495</td>\n",
       "      <td>349</td>\n",
       "      <td>0.852525</td>\n",
       "      <td>0.818577</td>\n",
       "      <td>0.143519</td>\n",
       "      <td>0.494207</td>\n",
       "      <td>Positive</td>\n",
       "    </tr>\n",
       "    <tr>\n",
       "      <th>4672</th>\n",
       "      <td>Twister</td>\n",
       "      <td>5.0</td>\n",
       "      <td>sandisk announcement of the first    gb micro ...</td>\n",
       "      <td>2014-07-03</td>\n",
       "      <td>158</td>\n",
       "      <td>45</td>\n",
       "      <td>4</td>\n",
       "      <td>49</td>\n",
       "      <td>41</td>\n",
       "      <td>0.918367</td>\n",
       "      <td>0.808109</td>\n",
       "      <td>0.172332</td>\n",
       "      <td>0.511282</td>\n",
       "      <td>Positive</td>\n",
       "    </tr>\n",
       "    <tr>\n",
       "      <th>9587</th>\n",
       "      <td>Twister</td>\n",
       "      <td>5.0</td>\n",
       "      <td>sandisk announcement of the first    gb micro ...</td>\n",
       "      <td>03-07-2014</td>\n",
       "      <td>158</td>\n",
       "      <td>45</td>\n",
       "      <td>4</td>\n",
       "      <td>49</td>\n",
       "      <td>41</td>\n",
       "      <td>0.918367</td>\n",
       "      <td>0.808109</td>\n",
       "      <td>0.172332</td>\n",
       "      <td>0.511282</td>\n",
       "      <td>Positive</td>\n",
       "    </tr>\n",
       "  </tbody>\n",
       "</table>\n",
       "</div>"
      ],
      "text/plain": [
       "                 reviewerName  overall  \\\n",
       "6946     Hyoun Kim \"Faluzure\"      5.0   \n",
       "2031     Hyoun Kim \"Faluzure\"      5.0   \n",
       "3449        NLee the Engineer      5.0   \n",
       "8364        NLee the Engineer      5.0   \n",
       "9127              SkincareCEO      1.0   \n",
       "4212              SkincareCEO      1.0   \n",
       "317   Amazon Customer \"Kelly\"      1.0   \n",
       "5232  Amazon Customer \"Kelly\"      1.0   \n",
       "4672                  Twister      5.0   \n",
       "9587                  Twister      5.0   \n",
       "\n",
       "                                             reviewText  reviewTime  day_diff  \\\n",
       "6946     update               so my lovely wife boug...  05-01-2013       702   \n",
       "2031     update               so my lovely wife boug...  2013-01-05       702   \n",
       "3449  i have tested dozens of sdhc and micro sdhc ca...  2012-09-26       803   \n",
       "8364  i have tested dozens of sdhc and micro sdhc ca...  26-09-2012       803   \n",
       "9127  note   please read the last update  scroll to ...  08-05-2013       579   \n",
       "4212  note   please read the last update  scroll to ...  2013-05-08       579   \n",
       "317   if your card gets hot enough to be painful  it...  2012-02-09      1033   \n",
       "5232  if your card gets hot enough to be painful  it...  09-02-2012      1033   \n",
       "4672  sandisk announcement of the first    gb micro ...  2014-07-03       158   \n",
       "9587  sandisk announcement of the first    gb micro ...  03-07-2014       158   \n",
       "\n",
       "      helpful_yes  helpful_no  total_vote  score_pos_neg_diff  \\\n",
       "6946         1952          68        2020                1884   \n",
       "2031         1952          68        2020                1884   \n",
       "3449         1428          77        1505                1351   \n",
       "8364         1428          77        1505                1351   \n",
       "9127         1568         126        1694                1442   \n",
       "4212         1568         126        1694                1442   \n",
       "317           422          73         495                 349   \n",
       "5232          422          73         495                 349   \n",
       "4672           45           4          49                  41   \n",
       "9587           45           4          49                  41   \n",
       "\n",
       "      score_average_rating  wilson_lower_bound  polarity  subjectivity  \\\n",
       "6946              0.966337            0.957544  0.163859      0.562259   \n",
       "2031              0.966337            0.957544  0.163859      0.562259   \n",
       "3449              0.948837            0.936519  0.103870      0.516435   \n",
       "8364              0.948837            0.936519  0.103870      0.516435   \n",
       "9127              0.925620            0.912139  0.212251      0.505394   \n",
       "4212              0.925620            0.912139  0.212251      0.505394   \n",
       "317               0.852525            0.818577  0.143519      0.494207   \n",
       "5232              0.852525            0.818577  0.143519      0.494207   \n",
       "4672              0.918367            0.808109  0.172332      0.511282   \n",
       "9587              0.918367            0.808109  0.172332      0.511282   \n",
       "\n",
       "     sentiment  \n",
       "6946  Positive  \n",
       "2031  Positive  \n",
       "3449  Positive  \n",
       "8364  Positive  \n",
       "9127  Positive  \n",
       "4212  Positive  \n",
       "317   Positive  \n",
       "5232  Positive  \n",
       "4672  Positive  \n",
       "9587  Positive  "
      ]
     },
     "execution_count": 35,
     "metadata": {},
     "output_type": "execute_result"
    }
   ],
   "source": [
    "rt = lambda x: re.sub(\"[^a-zA-Z]\",' ',str(x))\n",
    "df[\"reviewText\"] = df[\"reviewText\"].map(rt)\n",
    "df[\"reviewText\"] = df[\"reviewText\"].str.lower()\n",
    "df.head(10)"
   ]
  },
  {
   "cell_type": "code",
   "execution_count": 36,
   "id": "691949eb-ff4f-4bd8-9b08-84148294a90a",
   "metadata": {},
   "outputs": [
    {
     "name": "stdout",
     "output_type": "stream",
     "text": [
      "              reviewerName  overall  \\\n",
      "6946  Hyoun Kim \"Faluzure\"      5.0   \n",
      "2031  Hyoun Kim \"Faluzure\"      5.0   \n",
      "3449     NLee the Engineer      5.0   \n",
      "8364     NLee the Engineer      5.0   \n",
      "9127           SkincareCEO      1.0   \n",
      "\n",
      "                                             reviewText  reviewTime  day_diff  \\\n",
      "6946     update               so my lovely wife boug...  05-01-2013       702   \n",
      "2031     update               so my lovely wife boug...  2013-01-05       702   \n",
      "3449  i have tested dozens of sdhc and micro sdhc ca...  2012-09-26       803   \n",
      "8364  i have tested dozens of sdhc and micro sdhc ca...  26-09-2012       803   \n",
      "9127  note   please read the last update  scroll to ...  08-05-2013       579   \n",
      "\n",
      "      helpful_yes  helpful_no  total_vote  score_pos_neg_diff  \\\n",
      "6946         1952          68        2020                1884   \n",
      "2031         1952          68        2020                1884   \n",
      "3449         1428          77        1505                1351   \n",
      "8364         1428          77        1505                1351   \n",
      "9127         1568         126        1694                1442   \n",
      "\n",
      "      score_average_rating  wilson_lower_bound  polarity  subjectivity  \\\n",
      "6946              0.966337            0.957544  0.163859      0.562259   \n",
      "2031              0.966337            0.957544  0.163859      0.562259   \n",
      "3449              0.948837            0.936519  0.103870      0.516435   \n",
      "8364              0.948837            0.936519  0.103870      0.516435   \n",
      "9127              0.925620            0.912139  0.212251      0.505394   \n",
      "\n",
      "     sentiment  \n",
      "6946  Positive  \n",
      "2031  Positive  \n",
      "3449  Positive  \n",
      "8364  Positive  \n",
      "9127  Positive  \n"
     ]
    }
   ],
   "source": [
    "import pandas as pd\n",
    "from textblob import TextBlob\n",
    "from vaderSentiment.vaderSentiment import SentimentIntensityAnalyzer\n",
    "\n",
    "# Assuming 'df' is your DataFrame and 'reviewText' is the column to analyze\n",
    "\n",
    "# Sentiment analysis using TextBlob\n",
    "df[['polarity', 'subjectivity']] = df['reviewText'].apply(lambda text: pd.Series(TextBlob(text).sentiment))\n",
    "\n",
    "# Initialize VADER sentiment analyzer\n",
    "vader_analyzer = SentimentIntensityAnalyzer()\n",
    "\n",
    "# Define a function to classify sentiment using VADER\n",
    "def classify_sentiment(text):\n",
    "    score = vader_analyzer.polarity_scores(text)\n",
    "    neg = score['neg']\n",
    "    neu = score['neu']\n",
    "    pos = score['pos']\n",
    "    \n",
    "    if neg > pos:\n",
    "        return \"Negative\"\n",
    "    elif pos > neg:\n",
    "        return \"Positive\"\n",
    "    else:\n",
    "        return \"Neutral\"\n",
    "\n",
    "# Apply the function to classify sentiment for each review\n",
    "df['sentiment'] = df['reviewText'].apply(classify_sentiment)\n",
    "\n",
    "# Print the first few rows to verify\n",
    "print(df.head())\n"
   ]
  },
  {
   "cell_type": "code",
   "execution_count": 37,
   "id": "78fdbc51-a26d-4479-9367-1fe59fa80c66",
   "metadata": {},
   "outputs": [
    {
     "data": {
      "text/html": [
       "<div>\n",
       "<style scoped>\n",
       "    .dataframe tbody tr th:only-of-type {\n",
       "        vertical-align: middle;\n",
       "    }\n",
       "\n",
       "    .dataframe tbody tr th {\n",
       "        vertical-align: top;\n",
       "    }\n",
       "\n",
       "    .dataframe thead th {\n",
       "        text-align: right;\n",
       "    }\n",
       "</style>\n",
       "<table border=\"1\" class=\"dataframe\">\n",
       "  <thead>\n",
       "    <tr style=\"text-align: right;\">\n",
       "      <th></th>\n",
       "      <th>reviewerName</th>\n",
       "      <th>overall</th>\n",
       "      <th>reviewText</th>\n",
       "      <th>reviewTime</th>\n",
       "      <th>day_diff</th>\n",
       "      <th>helpful_yes</th>\n",
       "      <th>helpful_no</th>\n",
       "      <th>total_vote</th>\n",
       "      <th>score_pos_neg_diff</th>\n",
       "      <th>score_average_rating</th>\n",
       "      <th>wilson_lower_bound</th>\n",
       "      <th>polarity</th>\n",
       "      <th>subjectivity</th>\n",
       "      <th>sentiment</th>\n",
       "    </tr>\n",
       "  </thead>\n",
       "  <tbody>\n",
       "    <tr>\n",
       "      <th>6946</th>\n",
       "      <td>Hyoun Kim \"Faluzure\"</td>\n",
       "      <td>5.0</td>\n",
       "      <td>update               so my lovely wife boug...</td>\n",
       "      <td>05-01-2013</td>\n",
       "      <td>702</td>\n",
       "      <td>1952</td>\n",
       "      <td>68</td>\n",
       "      <td>2020</td>\n",
       "      <td>1884</td>\n",
       "      <td>0.966337</td>\n",
       "      <td>0.957544</td>\n",
       "      <td>0.163859</td>\n",
       "      <td>0.562259</td>\n",
       "      <td>Positive</td>\n",
       "    </tr>\n",
       "    <tr>\n",
       "      <th>2031</th>\n",
       "      <td>Hyoun Kim \"Faluzure\"</td>\n",
       "      <td>5.0</td>\n",
       "      <td>update               so my lovely wife boug...</td>\n",
       "      <td>2013-01-05</td>\n",
       "      <td>702</td>\n",
       "      <td>1952</td>\n",
       "      <td>68</td>\n",
       "      <td>2020</td>\n",
       "      <td>1884</td>\n",
       "      <td>0.966337</td>\n",
       "      <td>0.957544</td>\n",
       "      <td>0.163859</td>\n",
       "      <td>0.562259</td>\n",
       "      <td>Positive</td>\n",
       "    </tr>\n",
       "    <tr>\n",
       "      <th>3449</th>\n",
       "      <td>NLee the Engineer</td>\n",
       "      <td>5.0</td>\n",
       "      <td>i have tested dozens of sdhc and micro sdhc ca...</td>\n",
       "      <td>2012-09-26</td>\n",
       "      <td>803</td>\n",
       "      <td>1428</td>\n",
       "      <td>77</td>\n",
       "      <td>1505</td>\n",
       "      <td>1351</td>\n",
       "      <td>0.948837</td>\n",
       "      <td>0.936519</td>\n",
       "      <td>0.103870</td>\n",
       "      <td>0.516435</td>\n",
       "      <td>Positive</td>\n",
       "    </tr>\n",
       "    <tr>\n",
       "      <th>8364</th>\n",
       "      <td>NLee the Engineer</td>\n",
       "      <td>5.0</td>\n",
       "      <td>i have tested dozens of sdhc and micro sdhc ca...</td>\n",
       "      <td>26-09-2012</td>\n",
       "      <td>803</td>\n",
       "      <td>1428</td>\n",
       "      <td>77</td>\n",
       "      <td>1505</td>\n",
       "      <td>1351</td>\n",
       "      <td>0.948837</td>\n",
       "      <td>0.936519</td>\n",
       "      <td>0.103870</td>\n",
       "      <td>0.516435</td>\n",
       "      <td>Positive</td>\n",
       "    </tr>\n",
       "    <tr>\n",
       "      <th>9127</th>\n",
       "      <td>SkincareCEO</td>\n",
       "      <td>1.0</td>\n",
       "      <td>note   please read the last update  scroll to ...</td>\n",
       "      <td>08-05-2013</td>\n",
       "      <td>579</td>\n",
       "      <td>1568</td>\n",
       "      <td>126</td>\n",
       "      <td>1694</td>\n",
       "      <td>1442</td>\n",
       "      <td>0.925620</td>\n",
       "      <td>0.912139</td>\n",
       "      <td>0.212251</td>\n",
       "      <td>0.505394</td>\n",
       "      <td>Positive</td>\n",
       "    </tr>\n",
       "  </tbody>\n",
       "</table>\n",
       "</div>"
      ],
      "text/plain": [
       "              reviewerName  overall  \\\n",
       "6946  Hyoun Kim \"Faluzure\"      5.0   \n",
       "2031  Hyoun Kim \"Faluzure\"      5.0   \n",
       "3449     NLee the Engineer      5.0   \n",
       "8364     NLee the Engineer      5.0   \n",
       "9127           SkincareCEO      1.0   \n",
       "\n",
       "                                             reviewText  reviewTime  day_diff  \\\n",
       "6946     update               so my lovely wife boug...  05-01-2013       702   \n",
       "2031     update               so my lovely wife boug...  2013-01-05       702   \n",
       "3449  i have tested dozens of sdhc and micro sdhc ca...  2012-09-26       803   \n",
       "8364  i have tested dozens of sdhc and micro sdhc ca...  26-09-2012       803   \n",
       "9127  note   please read the last update  scroll to ...  08-05-2013       579   \n",
       "\n",
       "      helpful_yes  helpful_no  total_vote  score_pos_neg_diff  \\\n",
       "6946         1952          68        2020                1884   \n",
       "2031         1952          68        2020                1884   \n",
       "3449         1428          77        1505                1351   \n",
       "8364         1428          77        1505                1351   \n",
       "9127         1568         126        1694                1442   \n",
       "\n",
       "      score_average_rating  wilson_lower_bound  polarity  subjectivity  \\\n",
       "6946              0.966337            0.957544  0.163859      0.562259   \n",
       "2031              0.966337            0.957544  0.163859      0.562259   \n",
       "3449              0.948837            0.936519  0.103870      0.516435   \n",
       "8364              0.948837            0.936519  0.103870      0.516435   \n",
       "9127              0.925620            0.912139  0.212251      0.505394   \n",
       "\n",
       "     sentiment  \n",
       "6946  Positive  \n",
       "2031  Positive  \n",
       "3449  Positive  \n",
       "8364  Positive  \n",
       "9127  Positive  "
      ]
     },
     "execution_count": 37,
     "metadata": {},
     "output_type": "execute_result"
    }
   ],
   "source": [
    "# 20 Identifying the interpretation, now we can include the positive, negative and neutral status of the comments.\n",
    "\n",
    "df[df[\"sentiment\"] == \"Positive\"].sort_values(\"wilson_lower_bound\", ascending=False).head(5)"
   ]
  },
  {
   "cell_type": "code",
   "execution_count": 38,
   "id": "b9a204d2-e962-4752-bd22-06dc52da6951",
   "metadata": {},
   "outputs": [
    {
     "data": {
      "application/vnd.plotly.v1+json": {
       "config": {
        "linkText": "Export to plot.ly",
        "plotlyServerURL": "https://plot.ly",
        "showLink": false
       },
       "data": [
        {
         "marker": {
          "color": [
           "#581845",
           "#C70039",
           "#2E4053",
           "#1ABC9C",
           "#7F8C8D"
          ],
          "line": {
           "color": "#DBE6EC",
           "width": 1
          }
         },
         "name": "sentiment",
         "showlegend": false,
         "text": [
          "7994",
          "1288",
          "548"
         ],
         "textfont": {
          "size": 15
         },
         "textposition": "auto",
         "type": "bar",
         "x": [
          "Positive",
          "Negative",
          "Neutral"
         ],
         "xaxis": "x",
         "y": [
          7994,
          1288,
          548
         ],
         "yaxis": "y"
        },
        {
         "domain": {
          "x": [
           0.55,
           1
          ],
          "y": [
           0,
           1
          ]
         },
         "labels": [
          "Positive",
          "Negative",
          "Neutral"
         ],
         "marker": {
          "colors": [
           "#581845",
           "#C70039",
           "#2E4053",
           "#1ABC9C",
           "#7F8C8D"
          ]
         },
         "name": "sentiment",
         "showlegend": false,
         "textfont": {
          "size": 20
         },
         "textposition": "auto",
         "type": "pie",
         "values": [
          7994,
          1288,
          548
         ]
        }
       ],
       "layout": {
        "annotations": [
         {
          "font": {
           "size": 16
          },
          "showarrow": false,
          "text": "Countplot",
          "x": 0.225,
          "xanchor": "center",
          "xref": "paper",
          "y": 1,
          "yanchor": "bottom",
          "yref": "paper"
         },
         {
          "font": {
           "size": 16
          },
          "showarrow": false,
          "text": "Percentage Distribution",
          "x": 0.775,
          "xanchor": "center",
          "xref": "paper",
          "y": 1,
          "yanchor": "bottom",
          "yref": "paper"
         }
        ],
        "autosize": true,
        "template": {
         "data": {
          "bar": [
           {
            "error_x": {
             "color": "#2a3f5f"
            },
            "error_y": {
             "color": "#2a3f5f"
            },
            "marker": {
             "line": {
              "color": "white",
              "width": 0.5
             },
             "pattern": {
              "fillmode": "overlay",
              "size": 10,
              "solidity": 0.2
             }
            },
            "type": "bar"
           }
          ],
          "barpolar": [
           {
            "marker": {
             "line": {
              "color": "white",
              "width": 0.5
             },
             "pattern": {
              "fillmode": "overlay",
              "size": 10,
              "solidity": 0.2
             }
            },
            "type": "barpolar"
           }
          ],
          "carpet": [
           {
            "aaxis": {
             "endlinecolor": "#2a3f5f",
             "gridcolor": "#C8D4E3",
             "linecolor": "#C8D4E3",
             "minorgridcolor": "#C8D4E3",
             "startlinecolor": "#2a3f5f"
            },
            "baxis": {
             "endlinecolor": "#2a3f5f",
             "gridcolor": "#C8D4E3",
             "linecolor": "#C8D4E3",
             "minorgridcolor": "#C8D4E3",
             "startlinecolor": "#2a3f5f"
            },
            "type": "carpet"
           }
          ],
          "choropleth": [
           {
            "colorbar": {
             "outlinewidth": 0,
             "ticks": ""
            },
            "type": "choropleth"
           }
          ],
          "contour": [
           {
            "colorbar": {
             "outlinewidth": 0,
             "ticks": ""
            },
            "colorscale": [
             [
              0,
              "#0d0887"
             ],
             [
              0.1111111111111111,
              "#46039f"
             ],
             [
              0.2222222222222222,
              "#7201a8"
             ],
             [
              0.3333333333333333,
              "#9c179e"
             ],
             [
              0.4444444444444444,
              "#bd3786"
             ],
             [
              0.5555555555555556,
              "#d8576b"
             ],
             [
              0.6666666666666666,
              "#ed7953"
             ],
             [
              0.7777777777777778,
              "#fb9f3a"
             ],
             [
              0.8888888888888888,
              "#fdca26"
             ],
             [
              1,
              "#f0f921"
             ]
            ],
            "type": "contour"
           }
          ],
          "contourcarpet": [
           {
            "colorbar": {
             "outlinewidth": 0,
             "ticks": ""
            },
            "type": "contourcarpet"
           }
          ],
          "heatmap": [
           {
            "colorbar": {
             "outlinewidth": 0,
             "ticks": ""
            },
            "colorscale": [
             [
              0,
              "#0d0887"
             ],
             [
              0.1111111111111111,
              "#46039f"
             ],
             [
              0.2222222222222222,
              "#7201a8"
             ],
             [
              0.3333333333333333,
              "#9c179e"
             ],
             [
              0.4444444444444444,
              "#bd3786"
             ],
             [
              0.5555555555555556,
              "#d8576b"
             ],
             [
              0.6666666666666666,
              "#ed7953"
             ],
             [
              0.7777777777777778,
              "#fb9f3a"
             ],
             [
              0.8888888888888888,
              "#fdca26"
             ],
             [
              1,
              "#f0f921"
             ]
            ],
            "type": "heatmap"
           }
          ],
          "heatmapgl": [
           {
            "colorbar": {
             "outlinewidth": 0,
             "ticks": ""
            },
            "colorscale": [
             [
              0,
              "#0d0887"
             ],
             [
              0.1111111111111111,
              "#46039f"
             ],
             [
              0.2222222222222222,
              "#7201a8"
             ],
             [
              0.3333333333333333,
              "#9c179e"
             ],
             [
              0.4444444444444444,
              "#bd3786"
             ],
             [
              0.5555555555555556,
              "#d8576b"
             ],
             [
              0.6666666666666666,
              "#ed7953"
             ],
             [
              0.7777777777777778,
              "#fb9f3a"
             ],
             [
              0.8888888888888888,
              "#fdca26"
             ],
             [
              1,
              "#f0f921"
             ]
            ],
            "type": "heatmapgl"
           }
          ],
          "histogram": [
           {
            "marker": {
             "pattern": {
              "fillmode": "overlay",
              "size": 10,
              "solidity": 0.2
             }
            },
            "type": "histogram"
           }
          ],
          "histogram2d": [
           {
            "colorbar": {
             "outlinewidth": 0,
             "ticks": ""
            },
            "colorscale": [
             [
              0,
              "#0d0887"
             ],
             [
              0.1111111111111111,
              "#46039f"
             ],
             [
              0.2222222222222222,
              "#7201a8"
             ],
             [
              0.3333333333333333,
              "#9c179e"
             ],
             [
              0.4444444444444444,
              "#bd3786"
             ],
             [
              0.5555555555555556,
              "#d8576b"
             ],
             [
              0.6666666666666666,
              "#ed7953"
             ],
             [
              0.7777777777777778,
              "#fb9f3a"
             ],
             [
              0.8888888888888888,
              "#fdca26"
             ],
             [
              1,
              "#f0f921"
             ]
            ],
            "type": "histogram2d"
           }
          ],
          "histogram2dcontour": [
           {
            "colorbar": {
             "outlinewidth": 0,
             "ticks": ""
            },
            "colorscale": [
             [
              0,
              "#0d0887"
             ],
             [
              0.1111111111111111,
              "#46039f"
             ],
             [
              0.2222222222222222,
              "#7201a8"
             ],
             [
              0.3333333333333333,
              "#9c179e"
             ],
             [
              0.4444444444444444,
              "#bd3786"
             ],
             [
              0.5555555555555556,
              "#d8576b"
             ],
             [
              0.6666666666666666,
              "#ed7953"
             ],
             [
              0.7777777777777778,
              "#fb9f3a"
             ],
             [
              0.8888888888888888,
              "#fdca26"
             ],
             [
              1,
              "#f0f921"
             ]
            ],
            "type": "histogram2dcontour"
           }
          ],
          "mesh3d": [
           {
            "colorbar": {
             "outlinewidth": 0,
             "ticks": ""
            },
            "type": "mesh3d"
           }
          ],
          "parcoords": [
           {
            "line": {
             "colorbar": {
              "outlinewidth": 0,
              "ticks": ""
             }
            },
            "type": "parcoords"
           }
          ],
          "pie": [
           {
            "automargin": true,
            "type": "pie"
           }
          ],
          "scatter": [
           {
            "fillpattern": {
             "fillmode": "overlay",
             "size": 10,
             "solidity": 0.2
            },
            "type": "scatter"
           }
          ],
          "scatter3d": [
           {
            "line": {
             "colorbar": {
              "outlinewidth": 0,
              "ticks": ""
             }
            },
            "marker": {
             "colorbar": {
              "outlinewidth": 0,
              "ticks": ""
             }
            },
            "type": "scatter3d"
           }
          ],
          "scattercarpet": [
           {
            "marker": {
             "colorbar": {
              "outlinewidth": 0,
              "ticks": ""
             }
            },
            "type": "scattercarpet"
           }
          ],
          "scattergeo": [
           {
            "marker": {
             "colorbar": {
              "outlinewidth": 0,
              "ticks": ""
             }
            },
            "type": "scattergeo"
           }
          ],
          "scattergl": [
           {
            "marker": {
             "colorbar": {
              "outlinewidth": 0,
              "ticks": ""
             }
            },
            "type": "scattergl"
           }
          ],
          "scattermapbox": [
           {
            "marker": {
             "colorbar": {
              "outlinewidth": 0,
              "ticks": ""
             }
            },
            "type": "scattermapbox"
           }
          ],
          "scatterpolar": [
           {
            "marker": {
             "colorbar": {
              "outlinewidth": 0,
              "ticks": ""
             }
            },
            "type": "scatterpolar"
           }
          ],
          "scatterpolargl": [
           {
            "marker": {
             "colorbar": {
              "outlinewidth": 0,
              "ticks": ""
             }
            },
            "type": "scatterpolargl"
           }
          ],
          "scatterternary": [
           {
            "marker": {
             "colorbar": {
              "outlinewidth": 0,
              "ticks": ""
             }
            },
            "type": "scatterternary"
           }
          ],
          "surface": [
           {
            "colorbar": {
             "outlinewidth": 0,
             "ticks": ""
            },
            "colorscale": [
             [
              0,
              "#0d0887"
             ],
             [
              0.1111111111111111,
              "#46039f"
             ],
             [
              0.2222222222222222,
              "#7201a8"
             ],
             [
              0.3333333333333333,
              "#9c179e"
             ],
             [
              0.4444444444444444,
              "#bd3786"
             ],
             [
              0.5555555555555556,
              "#d8576b"
             ],
             [
              0.6666666666666666,
              "#ed7953"
             ],
             [
              0.7777777777777778,
              "#fb9f3a"
             ],
             [
              0.8888888888888888,
              "#fdca26"
             ],
             [
              1,
              "#f0f921"
             ]
            ],
            "type": "surface"
           }
          ],
          "table": [
           {
            "cells": {
             "fill": {
              "color": "#EBF0F8"
             },
             "line": {
              "color": "white"
             }
            },
            "header": {
             "fill": {
              "color": "#C8D4E3"
             },
             "line": {
              "color": "white"
             }
            },
            "type": "table"
           }
          ]
         },
         "layout": {
          "annotationdefaults": {
           "arrowcolor": "#2a3f5f",
           "arrowhead": 0,
           "arrowwidth": 1
          },
          "autotypenumbers": "strict",
          "coloraxis": {
           "colorbar": {
            "outlinewidth": 0,
            "ticks": ""
           }
          },
          "colorscale": {
           "diverging": [
            [
             0,
             "#8e0152"
            ],
            [
             0.1,
             "#c51b7d"
            ],
            [
             0.2,
             "#de77ae"
            ],
            [
             0.3,
             "#f1b6da"
            ],
            [
             0.4,
             "#fde0ef"
            ],
            [
             0.5,
             "#f7f7f7"
            ],
            [
             0.6,
             "#e6f5d0"
            ],
            [
             0.7,
             "#b8e186"
            ],
            [
             0.8,
             "#7fbc41"
            ],
            [
             0.9,
             "#4d9221"
            ],
            [
             1,
             "#276419"
            ]
           ],
           "sequential": [
            [
             0,
             "#0d0887"
            ],
            [
             0.1111111111111111,
             "#46039f"
            ],
            [
             0.2222222222222222,
             "#7201a8"
            ],
            [
             0.3333333333333333,
             "#9c179e"
            ],
            [
             0.4444444444444444,
             "#bd3786"
            ],
            [
             0.5555555555555556,
             "#d8576b"
            ],
            [
             0.6666666666666666,
             "#ed7953"
            ],
            [
             0.7777777777777778,
             "#fb9f3a"
            ],
            [
             0.8888888888888888,
             "#fdca26"
            ],
            [
             1,
             "#f0f921"
            ]
           ],
           "sequentialminus": [
            [
             0,
             "#0d0887"
            ],
            [
             0.1111111111111111,
             "#46039f"
            ],
            [
             0.2222222222222222,
             "#7201a8"
            ],
            [
             0.3333333333333333,
             "#9c179e"
            ],
            [
             0.4444444444444444,
             "#bd3786"
            ],
            [
             0.5555555555555556,
             "#d8576b"
            ],
            [
             0.6666666666666666,
             "#ed7953"
            ],
            [
             0.7777777777777778,
             "#fb9f3a"
            ],
            [
             0.8888888888888888,
             "#fdca26"
            ],
            [
             1,
             "#f0f921"
            ]
           ]
          },
          "colorway": [
           "#636efa",
           "#EF553B",
           "#00cc96",
           "#ab63fa",
           "#FFA15A",
           "#19d3f3",
           "#FF6692",
           "#B6E880",
           "#FF97FF",
           "#FECB52"
          ],
          "font": {
           "color": "#2a3f5f"
          },
          "geo": {
           "bgcolor": "white",
           "lakecolor": "white",
           "landcolor": "white",
           "showlakes": true,
           "showland": true,
           "subunitcolor": "#C8D4E3"
          },
          "hoverlabel": {
           "align": "left"
          },
          "hovermode": "closest",
          "mapbox": {
           "style": "light"
          },
          "paper_bgcolor": "white",
          "plot_bgcolor": "white",
          "polar": {
           "angularaxis": {
            "gridcolor": "#EBF0F8",
            "linecolor": "#EBF0F8",
            "ticks": ""
           },
           "bgcolor": "white",
           "radialaxis": {
            "gridcolor": "#EBF0F8",
            "linecolor": "#EBF0F8",
            "ticks": ""
           }
          },
          "scene": {
           "xaxis": {
            "backgroundcolor": "white",
            "gridcolor": "#DFE8F3",
            "gridwidth": 2,
            "linecolor": "#EBF0F8",
            "showbackground": true,
            "ticks": "",
            "zerolinecolor": "#EBF0F8"
           },
           "yaxis": {
            "backgroundcolor": "white",
            "gridcolor": "#DFE8F3",
            "gridwidth": 2,
            "linecolor": "#EBF0F8",
            "showbackground": true,
            "ticks": "",
            "zerolinecolor": "#EBF0F8"
           },
           "zaxis": {
            "backgroundcolor": "white",
            "gridcolor": "#DFE8F3",
            "gridwidth": 2,
            "linecolor": "#EBF0F8",
            "showbackground": true,
            "ticks": "",
            "zerolinecolor": "#EBF0F8"
           }
          },
          "shapedefaults": {
           "line": {
            "color": "#2a3f5f"
           }
          },
          "ternary": {
           "aaxis": {
            "gridcolor": "#DFE8F3",
            "linecolor": "#A2B1C6",
            "ticks": ""
           },
           "baxis": {
            "gridcolor": "#DFE8F3",
            "linecolor": "#A2B1C6",
            "ticks": ""
           },
           "bgcolor": "white",
           "caxis": {
            "gridcolor": "#DFE8F3",
            "linecolor": "#A2B1C6",
            "ticks": ""
           }
          },
          "title": {
           "x": 0.05
          },
          "xaxis": {
           "automargin": true,
           "gridcolor": "#EBF0F8",
           "linecolor": "#EBF0F8",
           "ticks": "",
           "title": {
            "standoff": 15
           },
           "zerolinecolor": "#EBF0F8",
           "zerolinewidth": 2
          },
          "yaxis": {
           "automargin": true,
           "gridcolor": "#EBF0F8",
           "linecolor": "#EBF0F8",
           "ticks": "",
           "title": {
            "standoff": 15
           },
           "zerolinecolor": "#EBF0F8",
           "zerolinewidth": 2
          }
         }
        },
        "title": {
         "text": "Categorical Summary: sentiment",
         "x": 0.5,
         "xanchor": "center",
         "y": 0.9,
         "yanchor": "top"
        },
        "xaxis": {
         "anchor": "y",
         "autorange": true,
         "domain": [
          0,
          0.45
         ],
         "range": [
          -0.5,
          2.5
         ],
         "type": "category"
        },
        "yaxis": {
         "anchor": "x",
         "autorange": true,
         "domain": [
          0,
          1
         ],
         "range": [
          0,
          8414.736842105263
         ],
         "type": "linear"
        }
       }
      },
      "text/html": [
       "<div>                            <div id=\"69faaa33-fecd-4430-9973-1aa719a3b1b9\" class=\"plotly-graph-div\" style=\"height:525px; width:100%;\"></div>            <script type=\"text/javascript\">                require([\"plotly\"], function(Plotly) {                    window.PLOTLYENV=window.PLOTLYENV || {};                                    if (document.getElementById(\"69faaa33-fecd-4430-9973-1aa719a3b1b9\")) {                    Plotly.newPlot(                        \"69faaa33-fecd-4430-9973-1aa719a3b1b9\",                        [{\"marker\":{\"color\":[\"#581845\",\"#C70039\",\"#2E4053\",\"#1ABC9C\",\"#7F8C8D\"],\"line\":{\"color\":\"#DBE6EC\",\"width\":1}},\"name\":\"sentiment\",\"showlegend\":false,\"text\":[\"7994\",\"1288\",\"548\"],\"textfont\":{\"size\":15},\"textposition\":\"auto\",\"x\":[\"Positive\",\"Negative\",\"Neutral\"],\"xaxis\":\"x\",\"y\":[7994,1288,548],\"yaxis\":\"y\",\"type\":\"bar\"},{\"domain\":{\"x\":[0.55,1.0],\"y\":[0.0,1.0]},\"labels\":[\"Positive\",\"Negative\",\"Neutral\"],\"marker\":{\"colors\":[\"#581845\",\"#C70039\",\"#2E4053\",\"#1ABC9C\",\"#7F8C8D\"]},\"name\":\"sentiment\",\"showlegend\":false,\"textfont\":{\"size\":20},\"textposition\":\"auto\",\"values\":[7994,1288,548],\"type\":\"pie\"}],                        {\"annotations\":[{\"font\":{\"size\":16},\"showarrow\":false,\"text\":\"Countplot\",\"x\":0.225,\"xanchor\":\"center\",\"xref\":\"paper\",\"y\":1.0,\"yanchor\":\"bottom\",\"yref\":\"paper\"},{\"font\":{\"size\":16},\"showarrow\":false,\"text\":\"Percentage Distribution\",\"x\":0.775,\"xanchor\":\"center\",\"xref\":\"paper\",\"y\":1.0,\"yanchor\":\"bottom\",\"yref\":\"paper\"}],\"template\":{\"data\":{\"barpolar\":[{\"marker\":{\"line\":{\"color\":\"white\",\"width\":0.5},\"pattern\":{\"fillmode\":\"overlay\",\"size\":10,\"solidity\":0.2}},\"type\":\"barpolar\"}],\"bar\":[{\"error_x\":{\"color\":\"#2a3f5f\"},\"error_y\":{\"color\":\"#2a3f5f\"},\"marker\":{\"line\":{\"color\":\"white\",\"width\":0.5},\"pattern\":{\"fillmode\":\"overlay\",\"size\":10,\"solidity\":0.2}},\"type\":\"bar\"}],\"carpet\":[{\"aaxis\":{\"endlinecolor\":\"#2a3f5f\",\"gridcolor\":\"#C8D4E3\",\"linecolor\":\"#C8D4E3\",\"minorgridcolor\":\"#C8D4E3\",\"startlinecolor\":\"#2a3f5f\"},\"baxis\":{\"endlinecolor\":\"#2a3f5f\",\"gridcolor\":\"#C8D4E3\",\"linecolor\":\"#C8D4E3\",\"minorgridcolor\":\"#C8D4E3\",\"startlinecolor\":\"#2a3f5f\"},\"type\":\"carpet\"}],\"choropleth\":[{\"colorbar\":{\"outlinewidth\":0,\"ticks\":\"\"},\"type\":\"choropleth\"}],\"contourcarpet\":[{\"colorbar\":{\"outlinewidth\":0,\"ticks\":\"\"},\"type\":\"contourcarpet\"}],\"contour\":[{\"colorbar\":{\"outlinewidth\":0,\"ticks\":\"\"},\"colorscale\":[[0.0,\"#0d0887\"],[0.1111111111111111,\"#46039f\"],[0.2222222222222222,\"#7201a8\"],[0.3333333333333333,\"#9c179e\"],[0.4444444444444444,\"#bd3786\"],[0.5555555555555556,\"#d8576b\"],[0.6666666666666666,\"#ed7953\"],[0.7777777777777778,\"#fb9f3a\"],[0.8888888888888888,\"#fdca26\"],[1.0,\"#f0f921\"]],\"type\":\"contour\"}],\"heatmapgl\":[{\"colorbar\":{\"outlinewidth\":0,\"ticks\":\"\"},\"colorscale\":[[0.0,\"#0d0887\"],[0.1111111111111111,\"#46039f\"],[0.2222222222222222,\"#7201a8\"],[0.3333333333333333,\"#9c179e\"],[0.4444444444444444,\"#bd3786\"],[0.5555555555555556,\"#d8576b\"],[0.6666666666666666,\"#ed7953\"],[0.7777777777777778,\"#fb9f3a\"],[0.8888888888888888,\"#fdca26\"],[1.0,\"#f0f921\"]],\"type\":\"heatmapgl\"}],\"heatmap\":[{\"colorbar\":{\"outlinewidth\":0,\"ticks\":\"\"},\"colorscale\":[[0.0,\"#0d0887\"],[0.1111111111111111,\"#46039f\"],[0.2222222222222222,\"#7201a8\"],[0.3333333333333333,\"#9c179e\"],[0.4444444444444444,\"#bd3786\"],[0.5555555555555556,\"#d8576b\"],[0.6666666666666666,\"#ed7953\"],[0.7777777777777778,\"#fb9f3a\"],[0.8888888888888888,\"#fdca26\"],[1.0,\"#f0f921\"]],\"type\":\"heatmap\"}],\"histogram2dcontour\":[{\"colorbar\":{\"outlinewidth\":0,\"ticks\":\"\"},\"colorscale\":[[0.0,\"#0d0887\"],[0.1111111111111111,\"#46039f\"],[0.2222222222222222,\"#7201a8\"],[0.3333333333333333,\"#9c179e\"],[0.4444444444444444,\"#bd3786\"],[0.5555555555555556,\"#d8576b\"],[0.6666666666666666,\"#ed7953\"],[0.7777777777777778,\"#fb9f3a\"],[0.8888888888888888,\"#fdca26\"],[1.0,\"#f0f921\"]],\"type\":\"histogram2dcontour\"}],\"histogram2d\":[{\"colorbar\":{\"outlinewidth\":0,\"ticks\":\"\"},\"colorscale\":[[0.0,\"#0d0887\"],[0.1111111111111111,\"#46039f\"],[0.2222222222222222,\"#7201a8\"],[0.3333333333333333,\"#9c179e\"],[0.4444444444444444,\"#bd3786\"],[0.5555555555555556,\"#d8576b\"],[0.6666666666666666,\"#ed7953\"],[0.7777777777777778,\"#fb9f3a\"],[0.8888888888888888,\"#fdca26\"],[1.0,\"#f0f921\"]],\"type\":\"histogram2d\"}],\"histogram\":[{\"marker\":{\"pattern\":{\"fillmode\":\"overlay\",\"size\":10,\"solidity\":0.2}},\"type\":\"histogram\"}],\"mesh3d\":[{\"colorbar\":{\"outlinewidth\":0,\"ticks\":\"\"},\"type\":\"mesh3d\"}],\"parcoords\":[{\"line\":{\"colorbar\":{\"outlinewidth\":0,\"ticks\":\"\"}},\"type\":\"parcoords\"}],\"pie\":[{\"automargin\":true,\"type\":\"pie\"}],\"scatter3d\":[{\"line\":{\"colorbar\":{\"outlinewidth\":0,\"ticks\":\"\"}},\"marker\":{\"colorbar\":{\"outlinewidth\":0,\"ticks\":\"\"}},\"type\":\"scatter3d\"}],\"scattercarpet\":[{\"marker\":{\"colorbar\":{\"outlinewidth\":0,\"ticks\":\"\"}},\"type\":\"scattercarpet\"}],\"scattergeo\":[{\"marker\":{\"colorbar\":{\"outlinewidth\":0,\"ticks\":\"\"}},\"type\":\"scattergeo\"}],\"scattergl\":[{\"marker\":{\"colorbar\":{\"outlinewidth\":0,\"ticks\":\"\"}},\"type\":\"scattergl\"}],\"scattermapbox\":[{\"marker\":{\"colorbar\":{\"outlinewidth\":0,\"ticks\":\"\"}},\"type\":\"scattermapbox\"}],\"scatterpolargl\":[{\"marker\":{\"colorbar\":{\"outlinewidth\":0,\"ticks\":\"\"}},\"type\":\"scatterpolargl\"}],\"scatterpolar\":[{\"marker\":{\"colorbar\":{\"outlinewidth\":0,\"ticks\":\"\"}},\"type\":\"scatterpolar\"}],\"scatter\":[{\"fillpattern\":{\"fillmode\":\"overlay\",\"size\":10,\"solidity\":0.2},\"type\":\"scatter\"}],\"scatterternary\":[{\"marker\":{\"colorbar\":{\"outlinewidth\":0,\"ticks\":\"\"}},\"type\":\"scatterternary\"}],\"surface\":[{\"colorbar\":{\"outlinewidth\":0,\"ticks\":\"\"},\"colorscale\":[[0.0,\"#0d0887\"],[0.1111111111111111,\"#46039f\"],[0.2222222222222222,\"#7201a8\"],[0.3333333333333333,\"#9c179e\"],[0.4444444444444444,\"#bd3786\"],[0.5555555555555556,\"#d8576b\"],[0.6666666666666666,\"#ed7953\"],[0.7777777777777778,\"#fb9f3a\"],[0.8888888888888888,\"#fdca26\"],[1.0,\"#f0f921\"]],\"type\":\"surface\"}],\"table\":[{\"cells\":{\"fill\":{\"color\":\"#EBF0F8\"},\"line\":{\"color\":\"white\"}},\"header\":{\"fill\":{\"color\":\"#C8D4E3\"},\"line\":{\"color\":\"white\"}},\"type\":\"table\"}]},\"layout\":{\"annotationdefaults\":{\"arrowcolor\":\"#2a3f5f\",\"arrowhead\":0,\"arrowwidth\":1},\"autotypenumbers\":\"strict\",\"coloraxis\":{\"colorbar\":{\"outlinewidth\":0,\"ticks\":\"\"}},\"colorscale\":{\"diverging\":[[0,\"#8e0152\"],[0.1,\"#c51b7d\"],[0.2,\"#de77ae\"],[0.3,\"#f1b6da\"],[0.4,\"#fde0ef\"],[0.5,\"#f7f7f7\"],[0.6,\"#e6f5d0\"],[0.7,\"#b8e186\"],[0.8,\"#7fbc41\"],[0.9,\"#4d9221\"],[1,\"#276419\"]],\"sequential\":[[0.0,\"#0d0887\"],[0.1111111111111111,\"#46039f\"],[0.2222222222222222,\"#7201a8\"],[0.3333333333333333,\"#9c179e\"],[0.4444444444444444,\"#bd3786\"],[0.5555555555555556,\"#d8576b\"],[0.6666666666666666,\"#ed7953\"],[0.7777777777777778,\"#fb9f3a\"],[0.8888888888888888,\"#fdca26\"],[1.0,\"#f0f921\"]],\"sequentialminus\":[[0.0,\"#0d0887\"],[0.1111111111111111,\"#46039f\"],[0.2222222222222222,\"#7201a8\"],[0.3333333333333333,\"#9c179e\"],[0.4444444444444444,\"#bd3786\"],[0.5555555555555556,\"#d8576b\"],[0.6666666666666666,\"#ed7953\"],[0.7777777777777778,\"#fb9f3a\"],[0.8888888888888888,\"#fdca26\"],[1.0,\"#f0f921\"]]},\"colorway\":[\"#636efa\",\"#EF553B\",\"#00cc96\",\"#ab63fa\",\"#FFA15A\",\"#19d3f3\",\"#FF6692\",\"#B6E880\",\"#FF97FF\",\"#FECB52\"],\"font\":{\"color\":\"#2a3f5f\"},\"geo\":{\"bgcolor\":\"white\",\"lakecolor\":\"white\",\"landcolor\":\"white\",\"showlakes\":true,\"showland\":true,\"subunitcolor\":\"#C8D4E3\"},\"hoverlabel\":{\"align\":\"left\"},\"hovermode\":\"closest\",\"mapbox\":{\"style\":\"light\"},\"paper_bgcolor\":\"white\",\"plot_bgcolor\":\"white\",\"polar\":{\"angularaxis\":{\"gridcolor\":\"#EBF0F8\",\"linecolor\":\"#EBF0F8\",\"ticks\":\"\"},\"bgcolor\":\"white\",\"radialaxis\":{\"gridcolor\":\"#EBF0F8\",\"linecolor\":\"#EBF0F8\",\"ticks\":\"\"}},\"scene\":{\"xaxis\":{\"backgroundcolor\":\"white\",\"gridcolor\":\"#DFE8F3\",\"gridwidth\":2,\"linecolor\":\"#EBF0F8\",\"showbackground\":true,\"ticks\":\"\",\"zerolinecolor\":\"#EBF0F8\"},\"yaxis\":{\"backgroundcolor\":\"white\",\"gridcolor\":\"#DFE8F3\",\"gridwidth\":2,\"linecolor\":\"#EBF0F8\",\"showbackground\":true,\"ticks\":\"\",\"zerolinecolor\":\"#EBF0F8\"},\"zaxis\":{\"backgroundcolor\":\"white\",\"gridcolor\":\"#DFE8F3\",\"gridwidth\":2,\"linecolor\":\"#EBF0F8\",\"showbackground\":true,\"ticks\":\"\",\"zerolinecolor\":\"#EBF0F8\"}},\"shapedefaults\":{\"line\":{\"color\":\"#2a3f5f\"}},\"ternary\":{\"aaxis\":{\"gridcolor\":\"#DFE8F3\",\"linecolor\":\"#A2B1C6\",\"ticks\":\"\"},\"baxis\":{\"gridcolor\":\"#DFE8F3\",\"linecolor\":\"#A2B1C6\",\"ticks\":\"\"},\"bgcolor\":\"white\",\"caxis\":{\"gridcolor\":\"#DFE8F3\",\"linecolor\":\"#A2B1C6\",\"ticks\":\"\"}},\"title\":{\"x\":0.05},\"xaxis\":{\"automargin\":true,\"gridcolor\":\"#EBF0F8\",\"linecolor\":\"#EBF0F8\",\"ticks\":\"\",\"title\":{\"standoff\":15},\"zerolinecolor\":\"#EBF0F8\",\"zerolinewidth\":2},\"yaxis\":{\"automargin\":true,\"gridcolor\":\"#EBF0F8\",\"linecolor\":\"#EBF0F8\",\"ticks\":\"\",\"title\":{\"standoff\":15},\"zerolinecolor\":\"#EBF0F8\",\"zerolinewidth\":2}}},\"title\":{\"text\":\"Categorical Summary: sentiment\",\"x\":0.5,\"xanchor\":\"center\",\"y\":0.9,\"yanchor\":\"top\"},\"xaxis\":{\"anchor\":\"y\",\"domain\":[0.0,0.45]},\"yaxis\":{\"anchor\":\"x\",\"domain\":[0.0,1.0]}},                        {\"responsive\": true}                    ).then(function(){\n",
       "                            \n",
       "var gd = document.getElementById('69faaa33-fecd-4430-9973-1aa719a3b1b9');\n",
       "var x = new MutationObserver(function (mutations, observer) {{\n",
       "        var display = window.getComputedStyle(gd).display;\n",
       "        if (!display || display === 'none') {{\n",
       "            console.log([gd, 'removed!']);\n",
       "            Plotly.purge(gd);\n",
       "            observer.disconnect();\n",
       "        }}\n",
       "}});\n",
       "\n",
       "// Listen for the removal of the full notebook cells\n",
       "var notebookContainer = gd.closest('#notebook-container');\n",
       "if (notebookContainer) {{\n",
       "    x.observe(notebookContainer, {childList: true});\n",
       "}}\n",
       "\n",
       "// Listen for the clearing of the current output cell\n",
       "var outputEl = gd.closest('.output');\n",
       "if (outputEl) {{\n",
       "    x.observe(outputEl, {childList: true});\n",
       "}}\n",
       "\n",
       "                        })                };                });            </script>        </div>"
      ]
     },
     "metadata": {},
     "output_type": "display_data"
    }
   ],
   "source": [
    "# Let's see if we have an unbalanced data problem\n",
    "categorical_variable_summary(df,'sentiment')"
   ]
  },
  {
   "cell_type": "code",
   "execution_count": 39,
   "id": "e415461b-cc83-43c0-a34f-b93d128b7e44",
   "metadata": {},
   "outputs": [
    {
     "data": {
      "text/html": [
       "<div>\n",
       "<style scoped>\n",
       "    .dataframe tbody tr th:only-of-type {\n",
       "        vertical-align: middle;\n",
       "    }\n",
       "\n",
       "    .dataframe tbody tr th {\n",
       "        vertical-align: top;\n",
       "    }\n",
       "\n",
       "    .dataframe thead th {\n",
       "        text-align: right;\n",
       "    }\n",
       "</style>\n",
       "<table border=\"1\" class=\"dataframe\">\n",
       "  <thead>\n",
       "    <tr style=\"text-align: right;\">\n",
       "      <th></th>\n",
       "      <th>overall</th>\n",
       "    </tr>\n",
       "    <tr>\n",
       "      <th>sentiment</th>\n",
       "      <th></th>\n",
       "    </tr>\n",
       "  </thead>\n",
       "  <tbody>\n",
       "    <tr>\n",
       "      <th>Negative</th>\n",
       "      <td>3.608696</td>\n",
       "    </tr>\n",
       "    <tr>\n",
       "      <th>Neutral</th>\n",
       "      <td>4.689781</td>\n",
       "    </tr>\n",
       "    <tr>\n",
       "      <th>Positive</th>\n",
       "      <td>4.738304</td>\n",
       "    </tr>\n",
       "  </tbody>\n",
       "</table>\n",
       "</div>"
      ],
      "text/plain": [
       "            overall\n",
       "sentiment          \n",
       "Negative   3.608696\n",
       "Neutral    4.689781\n",
       "Positive   4.738304"
      ]
     },
     "execution_count": 39,
     "metadata": {},
     "output_type": "execute_result"
    }
   ],
   "source": [
    "# Let's see if there is an imbalance in the scoring\n",
    "df.groupby([\"sentiment\"])[['overall']].mean()"
   ]
  },
  {
   "cell_type": "code",
   "execution_count": null,
   "id": "56387f67-f662-4299-943a-ec0df3085c90",
   "metadata": {},
   "outputs": [],
   "source": []
  },
  {
   "cell_type": "code",
   "execution_count": null,
   "id": "b0c0dd9d-8aee-4580-8173-54e7f111452c",
   "metadata": {},
   "outputs": [],
   "source": []
  }
 ],
 "metadata": {
  "kernelspec": {
   "display_name": "Python 3 (ipykernel)",
   "language": "python",
   "name": "python3"
  },
  "language_info": {
   "codemirror_mode": {
    "name": "ipython",
    "version": 3
   },
   "file_extension": ".py",
   "mimetype": "text/x-python",
   "name": "python",
   "nbconvert_exporter": "python",
   "pygments_lexer": "ipython3",
   "version": "3.12.5"
  }
 },
 "nbformat": 4,
 "nbformat_minor": 5
}
